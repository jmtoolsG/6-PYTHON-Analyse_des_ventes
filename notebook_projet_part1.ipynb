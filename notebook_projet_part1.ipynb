{
 "cells": [
  {
   "cell_type": "markdown",
   "id": "37361c6f",
   "metadata": {},
   "source": [
    "#### <STRONG>Lapage - Partie 1"
   ]
  },
  {
   "cell_type": "markdown",
   "id": "f126ae4a-2d3a-4168-9219-a1d311d46b96",
   "metadata": {},
   "source": [
    "## Table des matières<br>\n",
    "        \n",
    "* [Chargement des bases et nettoyage des données](#Chargement_des_bases_et_nettoyage_des_données)<br><br>\n",
    "\n",
    "* [Analyse du chiffre d'affaires](#Analyse_du_chiffre_d_affaires)\n",
    "    * [Description du chiffre d'affaires](#Description_du_chiffre_d_affaires)  \n",
    "    * [Evolution du chiffre d'affaires](#Evolution_du_ca)\n",
    "    * [Description des ventes](#Description_des_ventes)  \n",
    "    * [Evolution des ventes](#Evolution_des_ventes)\n",
    "    * [Focus octobre 2021](#Focus_octobre_2021) \n",
    "    * [Recherche de saisonnalité](#Recherche_de_saisonnalite)<br><br>\n",
    "     \n",
    "* [Analyse par produit](#Analyse_par_produit)\n",
    "    * [Répartition par catégorie](#Répartition_par_catégorie)\n",
    "    * [Top 10 des livres les mieux vendus](#Top_10_des_livres_les_mieux_vendus)\n",
    "    * [Top 10 des livres les moins vendus](#Top_10_des_livres_les_moins_vendus)<br><br>\n",
    "    \n",
    "* [Analyse du profil des clients](#Analyse_du_profil_des_clients)\n",
    "    * [Répartition par genre](#Répartition_par_genre)\n",
    "    * [Répartition par tranche d'âge](#Répartition_par_tranche_d_age)<br><br>\n",
    "    \n",
    "* [Analyse du comportement des clients](#Analyse_du_comportement_des_clients)\n",
    "    * [Répartition du CA par client](#Répartition_du_CA_par_client)\n",
    "    * [Corrélation entre genre et catégories](#Corrélation_entre_genre)\n",
    "    * [Corrélation entre âge et achat](#Corrélation_entre_âge_et_achat)\n",
    "        * [Âge et montant des achats](#Âge_et_montant_des_achats)\n",
    "        * [Âge et fréquence d'achats](#Age_et_fréquence_d_achats)\n",
    "        * [Âge et panier moyen](#Âge_et_panier_moyen)\n",
    "            * [Âge et panier moyen](#Âge_et_panier_moyen)\n",
    "            * [Tranche d'âge et panier moyen](#Tranche_age_et_panier_moyen)\n",
    "        * [Âge et catégories de produits achetés](#Âge_et_catégories_de_produits_achetés)"
   ]
  },
  {
   "cell_type": "markdown",
   "id": "ced9a156-7105-469a-bf55-39243d39e883",
   "metadata": {},
   "source": [
    "------------\n",
    "<li style=\"font-size: 20px;\"><strong>Chargement des bases <span style=\"color: rgb(184, 49, 47);\">et nettoyage des données</span></strong></li>\n",
    "</div></span></p><a class=\"anchor\" id=\"Chargement_des_bases_et_nettoyage_des_données\"></a>\n",
    "\n",
    "------------"
   ]
  },
  {
   "cell_type": "markdown",
   "id": "36cc1792-4038-45ed-914d-bf01fea22fba",
   "metadata": {},
   "source": [
    "#### <strong>Mise en place de l'environnement"
   ]
  },
  {
   "cell_type": "code",
   "execution_count": null,
   "id": "d89738f5-d0f0-4c2a-b0f9-24c350badf01",
   "metadata": {},
   "outputs": [],
   "source": [
    "# import des librairies\n",
    "import numpy as np\n",
    "import pandas as pd\n",
    "import datetime\n",
    "import plotly.express as px\n",
    "import plotly.graph_objects as go"
   ]
  },
  {
   "cell_type": "code",
   "execution_count": null,
   "id": "e4cce0b4-c0db-4e3b-922a-269e2b62c745",
   "metadata": {},
   "outputs": [],
   "source": [
    "# import des .csv\n",
    "customers = pd.read_csv('customers.csv',parse_dates=['birth'])\n",
    "products = pd.read_csv('products.csv')\n",
    "transactions = pd.read_csv('transactions.csv',parse_dates=['date'])"
   ]
  },
  {
   "cell_type": "markdown",
   "id": "5a2711be-40e2-474e-9dff-7bcd998f133f",
   "metadata": {},
   "source": [
    "#### <strong>Nettoyage et traitement du fichier \"customers\""
   ]
  },
  {
   "cell_type": "markdown",
   "id": "800c375d-5e4e-4c9a-9883-8a5af366de9b",
   "metadata": {},
   "source": [
    "<div class=\"alert alert-block alert-info\">\n",
    "<b>Note :</b> Analyse de la structure du fichier et des informations contenues\n",
    "</div>"
   ]
  },
  {
   "cell_type": "code",
   "execution_count": null,
   "id": "d8ac2a73-429b-4827-b996-c34ef0ffc365",
   "metadata": {},
   "outputs": [],
   "source": [
    "# Affichage informations DatFrame \"customers_1\"\n",
    "customers.dtypes"
   ]
  },
  {
   "cell_type": "code",
   "execution_count": null,
   "id": "9080c63c-ae4a-4e3f-a545-22cb2c34e26a",
   "metadata": {},
   "outputs": [],
   "source": [
    "# Affichage du nombre de colonnes\n",
    "print('Nombre de colonnes:',customers.shape[1])\n",
    "\n",
    "# Affichage du nombre de lignes\n",
    "print('Nombre de lignes:',customers.shape[0],'\\n')\n",
    "\n",
    "# Identification du nombre de lignes en doublon\n",
    "print('Nombre de lignes dupliquées:',customers.duplicated().sum())\n",
    "\n",
    "# Nombre de valeurs manquantes\n",
    "print('Nombre de valeurs manquantes:',(customers.isnull().sum().sum()),'\\n')\n",
    "\n",
    "# Nombre de valeurs manquantes de l'ID ['client_id']\n",
    "print('Valeurs total manquantes (client_id):',(customers[['client_id']].isnull().sum().sum()))"
   ]
  },
  {
   "cell_type": "markdown",
   "id": "fd60f923-8742-4065-a597-0d73628e5f96",
   "metadata": {},
   "source": [
    "<div class=\"alert alert-block alert-info\">\n",
    "<b>Note :</b> Analyse des effectifs et des répétitions de l'ID du fichier\n",
    "</div>"
   ]
  },
  {
   "cell_type": "code",
   "execution_count": null,
   "id": "27d1814d-eb78-4398-b721-e5444397a845",
   "metadata": {},
   "outputs": [],
   "source": [
    "## ANALYSE DE LA COLONNE ['client_id'] ##\n",
    "\n",
    "# Calcul du nombre de repetition\n",
    "customers_analyse_id = customers['client_id'].value_counts()\n",
    "\n",
    "# Modalités de l'index\n",
    "modalites = customers_analyse_id.index\n",
    "\n",
    "# Création du tableau à partir des modalités\n",
    "tab = pd.DataFrame(modalites, columns = ['client_id']) \n",
    "tab['n'] = customers_analyse_id.values\n",
    "\n",
    "# Len(web) renvoie la taille de l'échantillon\n",
    "tab['f'] = tab['n'] / len(customers_analyse_id)\n",
    "\n",
    "# Tri des valeurs de la variable X (croissant)\n",
    "tab = tab.sort_values('client_id') \n",
    "\n",
    "# Cumsum calcule la somme cumulée\n",
    "tab['F'] = tab['f'].cumsum()\n",
    "\n",
    "# Affichage tableau\n",
    "tab.head()"
   ]
  },
  {
   "cell_type": "markdown",
   "id": "4255dc0a-641c-4510-83b2-1732fdc76cc6",
   "metadata": {},
   "source": [
    "<div class=\"alert alert-block alert-warning\">\n",
    "<b>Conclusion :</b><br>    \n",
    "Aucune anomalie<br>\n",
    "</div>"
   ]
  },
  {
   "cell_type": "markdown",
   "id": "67e9ecaf-7f6b-4d9e-a59b-ed4104fae3bf",
   "metadata": {},
   "source": [
    "#### <strong>Nettoyage et traitement du fichier \"products\""
   ]
  },
  {
   "cell_type": "markdown",
   "id": "e4ac45cf-85b2-4543-b61f-73eab2cae166",
   "metadata": {},
   "source": [
    "<div class=\"alert alert-block alert-info\">\n",
    "<b>Note :</b> Analyse de la structure du fichier et des informations contenues\n",
    "</div>"
   ]
  },
  {
   "cell_type": "code",
   "execution_count": null,
   "id": "d79063b4-df91-4b74-8a34-eed64628d725",
   "metadata": {},
   "outputs": [],
   "source": [
    "# Affichage informations DatFrame \"products_1\"\n",
    "products.dtypes"
   ]
  },
  {
   "cell_type": "code",
   "execution_count": null,
   "id": "5a428337-81c0-4abe-9ed2-122e4e93d7ae",
   "metadata": {},
   "outputs": [],
   "source": [
    "# Convertion de la colonne 'categ' en 'object'\n",
    "products['categ'] = products['categ'].astype(str)"
   ]
  },
  {
   "cell_type": "code",
   "execution_count": null,
   "id": "f37c879b-d6c2-4ed8-9a24-88222c943f16",
   "metadata": {},
   "outputs": [],
   "source": [
    "# Affichage du nombre de colonnes\n",
    "print('Nombre de colonnes:',products.shape[1])\n",
    "\n",
    "# Affichage du nombre de lignes\n",
    "print('Nombre de lignes:',products.shape[0],'\\n')\n",
    "\n",
    "# Identification du nombre de lignes en doublon\n",
    "print('Nombre de lignes dupliquées:',products.duplicated().sum())\n",
    "\n",
    "# Nombre de valeurs manquantes\n",
    "print('Nombre total de valeurs manquantes:',(products.isnull().sum().sum()),'\\n')\n",
    "\n",
    "# Nombre de valeurs manquantes de l'ID ['client_id']\n",
    "print('Valeurs manquantes (id_prod):',(products[['id_prod']].isnull().sum().sum()))"
   ]
  },
  {
   "cell_type": "markdown",
   "id": "2e3d0b80-4be2-4267-ad38-fc60680ca73a",
   "metadata": {},
   "source": [
    "<div class=\"alert alert-block alert-info\">\n",
    "<b>Note :</b> Analyse des effectifs et des répétitions de l'ID du fichier\n",
    "</div>"
   ]
  },
  {
   "cell_type": "code",
   "execution_count": null,
   "id": "3b96145c-6447-40ef-a2fd-7efe42627f1e",
   "metadata": {},
   "outputs": [],
   "source": [
    "## ANALYSE DE LA COLONNE ['id_prod'] ##\n",
    "\n",
    "# Calcul du nombre de repetition\n",
    "products_analyse_id = products['id_prod'].value_counts()\n",
    "\n",
    "# Modalités de l'index\n",
    "modalites = products_analyse_id.index\n",
    "\n",
    "# Création du tableau à partir des modalités\n",
    "tab1 = pd.DataFrame(modalites, columns = ['id_prod']) \n",
    "tab1['n'] = products_analyse_id.values\n",
    "\n",
    "# Len(web) renvoie la taille de l'échantillon\n",
    "tab1['f'] = tab1['n'] / len(products_analyse_id)\n",
    "\n",
    "# Tri des valeurs de la variable X (croissant)\n",
    "tab1 = tab1.sort_values('id_prod') \n",
    "\n",
    "# Cumsum calcule la somme cumulée\n",
    "tab1['F'] = tab1['f'].cumsum()\n",
    "\n",
    "# Affichage tableau\n",
    "tab1.head()"
   ]
  },
  {
   "cell_type": "markdown",
   "id": "a253db7c-8a8e-498a-8d05-65926a15e5de",
   "metadata": {},
   "source": [
    "<div class=\"alert alert-block alert-warning\">\n",
    "<b>Conclusion :</b><br>    \n",
    "Aucune anomalie<br>\n",
    "</div>"
   ]
  },
  {
   "cell_type": "markdown",
   "id": "9897134b-76f1-4a6d-952e-b391c21880de",
   "metadata": {},
   "source": [
    "#### <strong>Nettoyage et traitement du fichier \"transactions\""
   ]
  },
  {
   "cell_type": "markdown",
   "id": "cc7795ed-5a43-49a1-af01-815a7b1965a0",
   "metadata": {},
   "source": [
    "<div class=\"alert alert-block alert-info\">\n",
    "<b>Note :</b> Analyse de la structure du fichier et des informations contenues\n",
    "</div>"
   ]
  },
  {
   "cell_type": "code",
   "execution_count": null,
   "id": "6efda354-85fd-47c7-b64c-0cf712d4aed7",
   "metadata": {},
   "outputs": [],
   "source": [
    "# Affichage informations DatFrame \"products_1\"\n",
    "transactions.dtypes"
   ]
  },
  {
   "cell_type": "code",
   "execution_count": null,
   "id": "44c2757b-1fb3-4a7d-9756-ad547614c96c",
   "metadata": {},
   "outputs": [],
   "source": [
    "# Affichage du nombre de colonnes\n",
    "print('Nombre de colonnes:',transactions.shape[1])\n",
    "\n",
    "# Affichage du nombre de lignes\n",
    "print('Nombre de lignes:',transactions.shape[0],'\\n')\n",
    "\n",
    "# Identification du nombre de lignes en doublon\n",
    "print('Nombre de lignes dupliquées:',transactions.duplicated().sum())\n",
    "\n",
    "# Nombre de valeurs manquantes\n",
    "print('Nombre total de valeurs manquantes:',(transactions.isnull().sum().sum()),'\\n')\n",
    "\n",
    "# Nombre de valeurs manquantes de l'ID ['client_id']\n",
    "print('Valeurs manquantes (id_prod):',(transactions[['id_prod']].isnull().sum().sum()))"
   ]
  },
  {
   "cell_type": "markdown",
   "id": "397c7749-68bf-47b7-a7c3-c51f83db7fff",
   "metadata": {},
   "source": [
    "<div class=\"alert alert-block alert-info\">\n",
    "<b>Note :</b> Nettoyage des dates\n",
    "</div>"
   ]
  },
  {
   "cell_type": "code",
   "execution_count": null,
   "id": "a796c248-b808-41e0-a3a8-03585a8bdb31",
   "metadata": {},
   "outputs": [],
   "source": [
    "# Détection des lignes de test\n",
    "test_transactions = transactions[transactions['date'].str.startswith('test')]\n",
    "test_transactions"
   ]
  },
  {
   "cell_type": "code",
   "execution_count": null,
   "id": "dd96477c-d501-4cf7-831f-c627143a9d51",
   "metadata": {},
   "outputs": [],
   "source": [
    "# suppression des lignes de test\n",
    "transactions.drop(transactions[transactions['date'].str.startswith('test') ].index, inplace=True)\n",
    "\n",
    "# Convertion de la colonne 'date'\n",
    "transactions['date'] = pd.to_datetime(transactions['date'],errors='coerce')"
   ]
  },
  {
   "cell_type": "markdown",
   "id": "a5197b80-7f54-4c10-b6b1-ba87f3bc37bc",
   "metadata": {},
   "source": [
    "<div class=\"alert alert-block alert-info\">\n",
    "<b>Note :</b> Nettoyage des doublons\n",
    "</div>"
   ]
  },
  {
   "cell_type": "code",
   "execution_count": null,
   "id": "cb994e66-91e0-4c02-af22-202e95bebccf",
   "metadata": {
    "scrolled": true
   },
   "outputs": [],
   "source": [
    "# Suppression des lignes complètement dupliquées\n",
    "transactions = transactions.drop_duplicates()\n",
    "\n",
    "# Affichage DataFrame\n",
    "transactions.head()"
   ]
  },
  {
   "cell_type": "markdown",
   "id": "ae2ee29d-eaca-4058-88ec-bed1dd79cc57",
   "metadata": {},
   "source": [
    "<div class=\"alert alert-block alert-info\">\n",
    "<b>Note :</b> Vérification du nettoyage\n",
    "</div>"
   ]
  },
  {
   "cell_type": "code",
   "execution_count": null,
   "id": "8a58665e-0442-46dc-828f-711b98a74e4c",
   "metadata": {},
   "outputs": [],
   "source": [
    "# Affichage informations DatFrame \"products_1\"\n",
    "transactions.dtypes"
   ]
  },
  {
   "cell_type": "code",
   "execution_count": null,
   "id": "a995e0f3-0307-4053-aa08-0454a663169a",
   "metadata": {},
   "outputs": [],
   "source": [
    "# Affichage du nombre de colonnes\n",
    "print('Nombre de colonnes:',transactions.shape[1])\n",
    "\n",
    "# Affichage du nombre de lignes\n",
    "print('Nombre de lignes:',transactions.shape[0],'\\n')\n",
    "\n",
    "# Identification du nombre de lignes en doublon\n",
    "print('Nombre de lignes dupliquées:',transactions.duplicated().sum())\n",
    "\n",
    "# Nombre de valeurs manquantes\n",
    "print('Nombre total de valeurs manquantes:',(transactions.isnull().sum().sum()),'\\n')\n",
    "\n",
    "# Nombre de valeurs manquantes de l'ID ['id_prod']\n",
    "print('Valeurs manquantes (id_prod):',(transactions[['id_prod']].isnull().sum().sum()))\n",
    "\n",
    "# Nombre de valeurs manquantes de l'ID ['client_id']\n",
    "print('Valeurs manquantes (client_id):',(transactions[['client_id']].isnull().sum().sum()))"
   ]
  },
  {
   "cell_type": "markdown",
   "id": "c2c45ecb-93d3-4daf-ab36-521251e0cfd3",
   "metadata": {},
   "source": [
    "<div class=\"alert alert-block alert-warning\">\n",
    "<b>Conclusion :</b><br>    \n",
    "Suppression des lignes de tests<br>\n",
    "Traitement de la colonne date<br>\n",
    "Supression de 126 lignes dupliquées<br>\n",
    "</div>"
   ]
  },
  {
   "cell_type": "markdown",
   "id": "4c0bafa1-4b39-4de0-9365-a0ecc7f24b83",
   "metadata": {},
   "source": [
    "#### <strong>Rapprochement des fichiers par jointure"
   ]
  },
  {
   "cell_type": "markdown",
   "id": "5c4d527e-e9e1-40df-b129-4fd3cfd936d9",
   "metadata": {},
   "source": [
    "##### <strong>Rapprochement des fichiers \"transactions\" et \"products\""
   ]
  },
  {
   "cell_type": "code",
   "execution_count": null,
   "id": "c2e5c735-21d2-43e9-ac4d-f758ae88b153",
   "metadata": {},
   "outputs": [],
   "source": [
    "# Jointure entre les fichiers \"transactions_1\" et \"products_1\" par l'attribut 'product_id'\n",
    "trans_prod= transactions.merge(products, how='outer',\n",
    "                               on='id_prod',\n",
    "                               indicator='_merge1')\n",
    "\n",
    "# Résultat indicator\n",
    "trans_prod['_merge1'].value_counts()"
   ]
  },
  {
   "cell_type": "markdown",
   "id": "35e8aa98-8300-4215-acac-81a902e0cbe8",
   "metadata": {},
   "source": [
    "<div class=\"alert alert-block alert-warning\">\n",
    "<b>Remarques :</b><br>\n",
    "221 transactions ne sont associées à aucun produits, ce qui pourrait correspondre à des tests.<br>\n",
    "22 produits ne font l'objet d'aucune transaction. A vérifier s'il s'agit de références non nettoyées dans la base de donnée ou d'un oubli de référcement sur le site.<br>\n",
    "Compte tenu du faible taux d'erreur, nous conserverons seulement les correspondances exactes dans ce projet.</div>"
   ]
  },
  {
   "cell_type": "code",
   "execution_count": null,
   "id": "f7d11ab0-8f84-4bfe-90da-cbee0c4c285e",
   "metadata": {},
   "outputs": [],
   "source": [
    "# Sélection des correspondances exactes\n",
    "trans_prod = trans_prod[trans_prod['_merge1'] == 'both']\n",
    "\n",
    "# Supression de la colonne '_merge1'\n",
    "trans_prod = trans_prod.drop(columns=['_merge1'])"
   ]
  },
  {
   "cell_type": "code",
   "execution_count": null,
   "id": "075296f5-5ad8-47ce-999d-b8291b20cec1",
   "metadata": {},
   "outputs": [],
   "source": [
    "## AFFICHAGE ET TRI ##\n",
    "\n",
    "# Affichage du nombre d'ID du fichier\n",
    "print('Nombre ID \"product_id\" :', trans_prod['id_prod'].value_counts().sum())\n",
    "\n",
    "# Affichage du nombre de colonnes\n",
    "print('Nombre de colonnes:',trans_prod.shape[1])\n",
    "\n",
    "# Affichage du nombre de lignes\n",
    "print('Nombre de lignes:',trans_prod.shape[0],'\\n')\n",
    "\n",
    "# Identification du nombres de lignes en doublons du DataFrame\n",
    "print('Nombre de lignes dupliquées:',trans_prod.duplicated().sum())\n",
    "\n",
    "# Nombre total de valeurs manquantes du DataFrame\n",
    "print('Nombre de valeurs manquantes:',(trans_prod.isnull().sum().sum()))"
   ]
  },
  {
   "cell_type": "markdown",
   "id": "8aeff51b-3ca3-4f13-a14f-b79d42dddb3f",
   "metadata": {},
   "source": [
    "##### <strong>Rapprochement des fichiers \"trans_prod\" et \"customers\""
   ]
  },
  {
   "cell_type": "code",
   "execution_count": null,
   "id": "64d20feb-5818-4cdd-a885-ffce1091f291",
   "metadata": {},
   "outputs": [],
   "source": [
    "#Jointure entre les fichiers \"transactions_products_merge\" et \"customers_1\" par l'attribut 'id_web'\n",
    "lapage_bdd = trans_prod.merge(customers, how='outer',\n",
    "                              on='client_id', \n",
    "                              indicator='_merge2')\n",
    "\n",
    "# Résultat indicator\n",
    "lapage_bdd['_merge2'].value_counts()"
   ]
  },
  {
   "cell_type": "markdown",
   "id": "fa657f54-8ad4-4851-9809-f4366546dab7",
   "metadata": {},
   "source": [
    "<div class=\"alert alert-block alert-warning\">\n",
    "<b>Remarques :</b><br>\n",
    "23 clients n'ont jamais fait aucune transactions sur le site web. Qui sont ces clients ?<br>\n",
    "Pour l'analyse du projet, nous ne conserverons que les corespondances exactes mais surtout les clients ayant réellement fait un achat en ligne."
   ]
  },
  {
   "cell_type": "code",
   "execution_count": null,
   "id": "86522696-33e1-46d4-be0e-590feeb97ada",
   "metadata": {},
   "outputs": [],
   "source": [
    "# Sélection des correspondances exactes\n",
    "lapage_bdd = lapage_bdd[lapage_bdd['_merge2'] == 'both']\n",
    "\n",
    "# Supression de la colonne '_merge1'\n",
    "lapage_bdd = lapage_bdd.drop(columns=['_merge2'])"
   ]
  },
  {
   "cell_type": "code",
   "execution_count": null,
   "id": "a55b4315-5317-4d52-b69e-5aedaa1e4f27",
   "metadata": {},
   "outputs": [],
   "source": [
    "## AFFICHAGE ET TRI ##\n",
    "\n",
    "# Affichage du nombre d'ID de chaque fichier\n",
    "print('Nombre ID \"id_prod\" :', lapage_bdd['id_prod'].value_counts().sum())\n",
    "print('Nombre ID \"client_id\" :', lapage_bdd['client_id'].value_counts().sum(),'\\n')\n",
    "\n",
    "# Affichage du nombre de colonnes\n",
    "print('Nombre de colonnes:',lapage_bdd.shape[1])\n",
    "\n",
    "# Affichage du nombre de lignes\n",
    "print('Nombre de lignes:',lapage_bdd.shape[0],'\\n')\n",
    "\n",
    "# Identification du nombres de lignes en doublons du DataFrame\n",
    "print('Nombre de lignes dupliquées:',lapage_bdd.duplicated().sum())\n",
    "\n",
    "# Nombre total de valeurs manquantes du DataFrame\n",
    "print('Valeurs manquantes:',(lapage_bdd.isnull().sum().sum()))"
   ]
  },
  {
   "cell_type": "markdown",
   "id": "c4f33a75-f40f-4567-b47e-685d9e0112a7",
   "metadata": {},
   "source": [
    "Ajout de colonnes 'age' et 'age_range'"
   ]
  },
  {
   "cell_type": "code",
   "execution_count": null,
   "id": "a05002c3-c271-446c-9ac8-77bd0234407d",
   "metadata": {},
   "outputs": [],
   "source": [
    "# Définition de l'âge des clients à partir de la date actuelle\n",
    "def age(born):\n",
    "    today = datetime.date.today()\n",
    "    return today.year - born.year - ((today.month, today.day) < (born.month, born.day))"
   ]
  },
  {
   "cell_type": "code",
   "execution_count": null,
   "id": "06204a9d-a571-423b-a20e-b3aecde78938",
   "metadata": {},
   "outputs": [],
   "source": [
    "# Création de la colonne 'age'\n",
    "lapage_bdd['age'] = lapage_bdd['birth'].apply(lambda x: age(x))\n",
    "\n",
    "# Suppression des doublons de clients\n",
    "lapage_bdd = lapage_bdd.drop_duplicates()\n",
    "\n",
    "# Définition des tranches d'âge\n",
    "bin_labels=labels=['0-20 ans', '21-30 ans', '31-40 ans', '41-50 ans', '51-60 ans',\n",
    "                   '61-70 ans', '71-80 ans', '81-90 ans', '91-100 ans']\n",
    "\n",
    "# Création colonne 'Age-Range'\n",
    "lapage_bdd['age_range'], bin_values= pd.cut(\n",
    "    x= lapage_bdd['age'], \n",
    "    bins= [0, 20, 30 ,40, 50, 60, 70, 80, 90, 100],\n",
    "    labels= bin_labels, retbins=True)\n",
    "\n",
    "# Affichage DataFrame\n",
    "lapage_bdd.head()"
   ]
  },
  {
   "cell_type": "code",
   "execution_count": null,
   "id": "c9611a33-c332-42d8-a381-d835dfc68537",
   "metadata": {},
   "outputs": [],
   "source": [
    "# Affichage informations DataFrame\n",
    "lapage_bdd.dtypes"
   ]
  },
  {
   "cell_type": "code",
   "execution_count": null,
   "id": "4b7c7e22-c51e-4c04-8217-4649206f9cb4",
   "metadata": {},
   "outputs": [],
   "source": [
    "# Téléchargement fichier 'df_merge'\n",
    "lapage_bdd.to_csv(\"lapage_bdd.csv\",index=False)"
   ]
  },
  {
   "cell_type": "markdown",
   "id": "14f1470e-3099-4d5d-a4a4-e490ca25bb88",
   "metadata": {},
   "source": [
    "------------\n",
    "<li style=\"font-size: 20px;\"><strong>Analyse du <span style=\"color: rgb(184, 49, 47);\">chiffre d'affaires</span></strong></li>\n",
    "</div></span></p><a class=\"anchor\" id=\"Analyse_du_chiffre_d_affaires\"></a>\n",
    "\n",
    "------------"
   ]
  },
  {
   "cell_type": "markdown",
   "id": "9fea21f1-c1f1-43fb-8b62-141ea0eda7bd",
   "metadata": {},
   "source": [
    "<li style=\"font-size: 16px;\"><strong>2.1 - Description du chiffre d'affaires </strong></li>\n",
    "</div></span></p><a class=\"anchor\" id=\"Description_du_chiffre_d_affaires\"></a>"
   ]
  },
  {
   "cell_type": "markdown",
   "id": "211ac51a-f0c6-462d-9214-8edfb1964420",
   "metadata": {},
   "source": [
    "##### <strong>Chiffre d'affaires total"
   ]
  },
  {
   "cell_type": "code",
   "execution_count": null,
   "id": "5377a321-5877-4903-bfb7-bcaa5d7e16b9",
   "metadata": {},
   "outputs": [],
   "source": [
    "# Calcul du chiffre d'affaires\n",
    "ca_total = (lapage_bdd['price']).sum().round(2)\n",
    "\n",
    "# Affichage résultat\n",
    "print(\"Le chiffre d’affaires total réalisé en ligne est de\", ca_total, \"€\")"
   ]
  },
  {
   "cell_type": "markdown",
   "id": "82d5d93b-d54a-469a-8593-e5d0070a01b1",
   "metadata": {},
   "source": [
    "<li style=\"font-size: 16px;\"><strong>2.2 - Evolution du chiffre d'affaires </strong></li>\n",
    "</div></span></p><a class=\"anchor\" id=\"Evolution_du_chiffre_d_affaires_depuis_l_ouverture_du_site\"></a>"
   ]
  },
  {
   "cell_type": "markdown",
   "id": "46341e5b-140b-41c5-997d-68d5c3d9c439",
   "metadata": {},
   "source": [
    "##### <strong>Chiffre d'affaires mensuel"
   ]
  },
  {
   "cell_type": "code",
   "execution_count": null,
   "id": "43d92f12-b3ed-42d4-b688-36bb2f6bf89c",
   "metadata": {},
   "outputs": [],
   "source": [
    "# Création du DataFrame\n",
    "ca_mensuel = lapage_bdd.groupby(pd.Grouper(key='date', axis=0, freq='M')).sum().reset_index()\n",
    "\n",
    "# sélection des colonnes à afficher\n",
    "ca_mensuel = ca_mensuel[['date','price']]\n",
    "\n",
    "# Affichage DataFrame\n",
    "ca_mensuel.head()"
   ]
  },
  {
   "cell_type": "code",
   "execution_count": null,
   "id": "a8c40b72-9c19-4052-abec-5d72f4f33d4a",
   "metadata": {},
   "outputs": [],
   "source": [
    "# Meilleur mois\n",
    "top_month = ca_mensuel.sort_values(by='price', ascending=False).head(1)\n",
    "\n",
    "# Affichage DataFrame\n",
    "top_month"
   ]
  },
  {
   "cell_type": "code",
   "execution_count": null,
   "id": "1d7afd6a-7a32-4702-bc32-0d2d66e8cb0e",
   "metadata": {},
   "outputs": [],
   "source": [
    "# Plus mauvais mois  mois\n",
    "flop_month = ca_mensuel.sort_values(by='price', ascending=True).head(1)\n",
    "\n",
    "# Affichage DataFrame\n",
    "flop_month"
   ]
  },
  {
   "cell_type": "code",
   "execution_count": null,
   "id": "408185bb-5edc-43ed-8055-462690df9e9d",
   "metadata": {},
   "outputs": [],
   "source": [
    "# Marqueurs\n",
    "colors = ['rgb(103,177,218)'] * 24\n",
    "colors[7] = 'rgb(134,234,233)'\n",
    "colors[11] = 'cyan'\n",
    "\n",
    "# Création du tracé\n",
    "fig = go.Figure(data=[go.Bar(\n",
    "    x=ca_mensuel['date'], y=ca_mensuel['price'], \n",
    "    text=ca_mensuel['price'], marker_color=colors)])\n",
    "\n",
    "# Paramètres du graphique\n",
    "fig.update_layout(\n",
    "    paper_bgcolor='rgba(0,0,0,0)', plot_bgcolor='rgba(0,0,0,0)', \n",
    "    font_color=\"black\", width=850, height=400,\n",
    "    title=dict(text='<b>Chiffre d\\'affaires mensuel</b>'),\n",
    "    yaxis=dict(title='Chiffre d\\'affaires mensuel en €'))\n",
    "\n",
    "fig.update_traces(texttemplate='%{text:.2s}', textposition='outside')\n",
    "fig.update_xaxes(gridcolor='rgba(0,0,0,0)', linecolor='lightgrey')\n",
    "fig.update_yaxes(gridcolor='lightgrey', linecolor='lightgrey')\n",
    "\n",
    "# Affichage graphique\n",
    "fig.show()"
   ]
  },
  {
   "cell_type": "markdown",
   "id": "55afcc3a-a326-4aec-ba14-9558ef938ba6",
   "metadata": {},
   "source": [
    "##### <strong>Evolution mensuelle du CA vs moyenne mobile"
   ]
  },
  {
   "cell_type": "code",
   "execution_count": null,
   "id": "bfaf4713-bae8-4b82-aed4-dc91b1d991cd",
   "metadata": {
    "scrolled": true
   },
   "outputs": [],
   "source": [
    "# Moyenne mobile\n",
    "ca_mensuel['rolling_mean'] = ca_mensuel.price.rolling(window = 3).mean()\n",
    "\n",
    "# Création du tracé\n",
    "fig = go.Figure()\n",
    "fig.add_trace(go.Scatter(x=ca_mensuel['date'], \n",
    "                         y=ca_mensuel['price'],\n",
    "                         name='Chiffre d\\'affaires', line=dict(color='royalblue')))\n",
    "fig.add_trace(go.Scatter(x=ca_mensuel['date'],\n",
    "                         y=ca_mensuel['rolling_mean'], \n",
    "                         name='Moyenne mobile', line=dict(color='cyan')))\n",
    "\n",
    "# Paramètres du graphique\n",
    "fig.update_layout(\n",
    "    paper_bgcolor='rgba(0,0,0,0)', plot_bgcolor='rgba(0,0,0,0)',\n",
    "    font_color=\"black\", width=850, height=400, showlegend=True, \n",
    "    title=dict(text='<b>Evolution mensuelle du chiffre d\\'affaires</b>'),\n",
    "    yaxis=dict(title='Chiffre d\\'affaires en (€)'),\n",
    "    legend=dict(orientation='h', y=1.1, xanchor=\"right\", x=1))\n",
    "\n",
    "fig.update_xaxes(gridcolor='rgba(0,0,0,0)', linecolor='lightgrey')\n",
    "fig.update_yaxes(gridcolor='lightgrey', linecolor='lightgrey')\n",
    "\n",
    "# Affichage graphique\n",
    "fig.show()"
   ]
  },
  {
   "cell_type": "markdown",
   "id": "7ffc6ba6-dee5-485d-a3f1-322431e8cb56",
   "metadata": {},
   "source": [
    "<li style=\"font-size: 16px;\"><strong>2.3 - Description des ventes </strong></li>\n",
    "</div></span></p><a class=\"anchor\" id=\"Description_des_ventes\"></a>"
   ]
  },
  {
   "cell_type": "markdown",
   "id": "d0863ee6-fe46-47ba-9f9d-b55143c27151",
   "metadata": {},
   "source": [
    "##### <strong>Nombre de ventes depuis l'ouverture du site"
   ]
  },
  {
   "cell_type": "code",
   "execution_count": null,
   "id": "5bc32d17-ca0f-493c-8482-aecbeffd59a2",
   "metadata": {},
   "outputs": [],
   "source": [
    "# Calcul du nombre de ventes totales\n",
    "ventes_totales = (lapage_bdd['id_prod']).count()\n",
    "\n",
    "# Affichage résultat\n",
    "print(\"Le nombre de ventes total réalisé en ligne est de:\", ventes_totales)"
   ]
  },
  {
   "cell_type": "markdown",
   "id": "e3c329d7-7c37-41d2-9539-4bcb7e795757",
   "metadata": {},
   "source": [
    "<li style=\"font-size: 18px;\"><strong>2.4 - Evolution des ventes </strong></li>\n",
    "</div></span></p><a class=\"anchor\" id=\"Evolution_des_ventes\"></a>"
   ]
  },
  {
   "cell_type": "markdown",
   "id": "d29237c4-3b13-40e6-b79a-4dcbd25a9617",
   "metadata": {},
   "source": [
    "##### <strong>Evolution du nombre de ventes"
   ]
  },
  {
   "cell_type": "code",
   "execution_count": null,
   "id": "b40428ab-fac2-4bf7-9dd1-2d0dfd2075b9",
   "metadata": {},
   "outputs": [],
   "source": [
    "# Création du DataFrame\n",
    "ventes_mensuel = lapage_bdd.groupby(pd.Grouper(key='date', axis=0, freq='M')).count()\n",
    "\n",
    "# Mise à jour de l'index\n",
    "ventes_mensuel = ventes_mensuel.reset_index()\n",
    "\n",
    "# Sélection des colonnes du DataFrame\n",
    "ventes_mensuel = ventes_mensuel[['date','categ']]\n",
    "\n",
    "# Affichage DataFrame\n",
    "ventes_mensuel.head()"
   ]
  },
  {
   "cell_type": "code",
   "execution_count": null,
   "id": "b8c1adb8-2a0f-48ab-9382-b3c871fed712",
   "metadata": {},
   "outputs": [],
   "source": [
    "# Meilleur mois\n",
    "top_ventes = ventes_mensuel.sort_values(by='categ', ascending=False).head(1)\n",
    "\n",
    "# Affichage DataFrame\n",
    "top_ventes"
   ]
  },
  {
   "cell_type": "code",
   "execution_count": null,
   "id": "9687f731-1aeb-47c4-82ce-a42e0f81b67a",
   "metadata": {},
   "outputs": [],
   "source": [
    "# Meilleur mois\n",
    "flop_ventes = ventes_mensuel.sort_values(by='categ', ascending=True).head(1)\n",
    "\n",
    "# Affichage DataFrame\n",
    "flop_ventes"
   ]
  },
  {
   "cell_type": "code",
   "execution_count": null,
   "id": "89a6cdcb-eaaf-41c0-9084-8cb3cba9f185",
   "metadata": {},
   "outputs": [],
   "source": [
    "# Marqueurs\n",
    "colors = ['rgb(103,177,218)'] * 24\n",
    "colors[7] = 'rgb(134,234,233)'\n",
    "colors[6] = 'cyan'\n",
    "\n",
    "# Création du tracé\n",
    "fig = go.Figure(data=[go.Bar(\n",
    "    x=ventes_mensuel['date'], y=ventes_mensuel['categ'], \n",
    "    text=ventes_mensuel['categ'], marker_color=colors)])\n",
    "\n",
    "# Paramètres du graphique\n",
    "fig.update_layout(\n",
    "    paper_bgcolor='rgba(0,0,0,0)', plot_bgcolor='rgba(0,0,0,0)', \n",
    "    font_color=\"black\", width=850, height=400,\n",
    "    title=dict(text='<b>Nombre de ventes mensuel</b>'),\n",
    "    yaxis=dict(title='Nombre de ventes'),\n",
    "    margin=dict(l=0, r=50, b=50, t=30,pad=4))\n",
    "\n",
    "fig.update_traces(texttemplate='%{text:.2s}', textposition='outside')\n",
    "fig.update_xaxes(gridcolor='rgba(0,0,0,0)', linecolor='lightgrey')\n",
    "fig.update_yaxes(gridcolor='lightgrey', linecolor='lightgrey')\n",
    "\n",
    "# Affichage graphique\n",
    "fig.show()"
   ]
  },
  {
   "cell_type": "code",
   "execution_count": null,
   "id": "4333bf1b-57a4-424d-a046-41d957ad9d12",
   "metadata": {},
   "outputs": [],
   "source": [
    "# Moyenne mobile\n",
    "ventes_mensuel['rolling_mean'] = ventes_mensuel.categ.rolling(window = 3).mean()\n",
    "\n",
    "# Création du tracé\n",
    "fig = go.Figure()\n",
    "fig.add_trace(go.Scatter(x=ventes_mensuel['date'], \n",
    "                         y=ventes_mensuel['categ'],\n",
    "                         name='Ventes', line=dict(color='royalblue')))\n",
    "fig.add_trace(go.Scatter(x=ventes_mensuel['date'],\n",
    "                         y=ventes_mensuel['rolling_mean'], \n",
    "                         name='Moyenne mobile', line=dict(color='cyan')))\n",
    "\n",
    "# Paramètres du graphique\n",
    "fig.update_layout(\n",
    "    paper_bgcolor='rgba(0,0,0,0)', plot_bgcolor='rgba(0,0,0,0)',\n",
    "    font_color=\"black\", width=850, height=400, showlegend=True, \n",
    "    title=dict(text='<b>Evolution mensuelle des ventes</b>'),\n",
    "    yaxis=dict(title='Chiffre d\\'affaires en (€)'),\n",
    "    legend=dict(orientation='h', y=1.1, xanchor=\"right\", x=1))\n",
    "\n",
    "fig.update_xaxes(gridcolor='rgba(0,0,0,0)', linecolor='lightgrey')\n",
    "fig.update_yaxes(gridcolor='lightgrey', linecolor='lightgrey')\n",
    "\n",
    "# Affichage graphique\n",
    "fig.show()"
   ]
  },
  {
   "cell_type": "markdown",
   "id": "aa1113a9-b0c0-4ce9-8d55-1a21856ad8dc",
   "metadata": {},
   "source": [
    "<li style=\"font-size: 18px;\"><strong>2.5 - Focus octobre 2021</strong></li>\n",
    "</div></span></p><a class=\"anchor\" id=\"Focus_octobre_2021\"></a>"
   ]
  },
  {
   "cell_type": "markdown",
   "id": "042d59b2-2428-4bec-bf76-10c74e1a9202",
   "metadata": {},
   "source": [
    "##### <strong>Analyse du chiffre d'affaires journalier"
   ]
  },
  {
   "cell_type": "code",
   "execution_count": null,
   "id": "afff939d-2557-41ec-8211-2094eb60e650",
   "metadata": {},
   "outputs": [],
   "source": [
    "# Création du DataFrame\n",
    "ca_octobre = lapage_bdd[(lapage_bdd['date'] >= '2021-10-01') & \n",
    "                        (lapage_bdd['date'] <= '2021-10-31')]\n",
    "\n",
    "ca_octobre = ca_octobre.groupby(pd.Grouper(key='date', axis=0, freq='d')).sum().reset_index()\n",
    "\n",
    "# sélection des colonnes à afficher\n",
    "ca_octobre = ca_octobre[['date','price']]\n",
    "\n",
    "# Affichage DataFrame\n",
    "ca_octobre.head()"
   ]
  },
  {
   "cell_type": "code",
   "execution_count": null,
   "id": "9b5a91d5-ba0b-434d-8819-8d1a01744e10",
   "metadata": {},
   "outputs": [],
   "source": [
    "# Meilleur jour\n",
    "top_oct = ca_octobre.sort_values(by='price', ascending=False).head(1)\n",
    "\n",
    "# sélection des colonnes à afficher\n",
    "top_oct = top_oct[['date','price']]\n",
    "\n",
    "# Affichage DataFrame\n",
    "top_oct"
   ]
  },
  {
   "cell_type": "code",
   "execution_count": null,
   "id": "6d4f1a64-d745-4f02-8fcf-619ff0a99905",
   "metadata": {},
   "outputs": [],
   "source": [
    "# Meilleur jour\n",
    "flop_oct = ca_octobre.sort_values(by='price', ascending=True).head(1)\n",
    "\n",
    "# sélection des colonnes à afficher\n",
    "flop_oct = flop_oct[['date','price']]\n",
    "\n",
    "# Affichage DataFrame\n",
    "flop_oct"
   ]
  },
  {
   "cell_type": "code",
   "execution_count": null,
   "id": "e4eaac0d-0517-4692-acc8-bed29c87cec9",
   "metadata": {},
   "outputs": [],
   "source": [
    "# Création du tracé\n",
    "fig = go.Figure()\n",
    "fig.add_trace(go.Scatter(x=ca_octobre['date'], \n",
    "                         y=ca_octobre['price'],\n",
    "                         name='Ventes', line=dict(color='cyan')))\n",
    "\n",
    "# Paramètres du graphique\n",
    "fig.update_layout(\n",
    "    paper_bgcolor='rgba(0,0,0,0)', plot_bgcolor='rgba(0,0,0,0)', \n",
    "    font_color=\"black\", width=850, height=400,\n",
    "    title=dict(text='<b>Chiffre d\\'affaires journalier</b>'),\n",
    "    yaxis=dict(title='Chiffre d\\'affaires en (€)'))\n",
    "\n",
    "\n",
    "fig.update_xaxes(gridcolor='rgba(0,0,0,0)', linecolor='lightgrey')\n",
    "fig.update_yaxes(gridcolor='lightgrey', linecolor='lightgrey')\n",
    "\n",
    "# Affichage graphique\n",
    "fig.show()"
   ]
  },
  {
   "cell_type": "markdown",
   "id": "efd0e98e-fe48-4383-98f2-5a702b62bb02",
   "metadata": {},
   "source": [
    "##### <strong>Analyse des ventes par catégorie"
   ]
  },
  {
   "cell_type": "code",
   "execution_count": null,
   "id": "d46ca73a-10f9-4dd3-b4a8-b2066dbf735b",
   "metadata": {},
   "outputs": [],
   "source": [
    "# Création DataFrame\n",
    "categ_octobre = lapage_bdd[(lapage_bdd['date'] >= '2021-10-01') & \n",
    "                           (lapage_bdd['date'] <= '2021-10-31')]\n",
    "\n",
    "# Groupement par catégorie\n",
    "categ_octobre = categ_octobre.groupby(by='categ').sum().reset_index()\n",
    "\n",
    "# Groupement par catégorie\n",
    "categ_octobre = categ_octobre[['categ','price']]\n",
    "\n",
    "# Affichage DataFrame\n",
    "categ_octobre.head()"
   ]
  },
  {
   "cell_type": "code",
   "execution_count": null,
   "id": "e0858016-b269-4b3a-99f3-5f6dfbd27901",
   "metadata": {
    "scrolled": true
   },
   "outputs": [],
   "source": [
    "# Création du tracé\n",
    "fig = px.pie(categ_octobre, values='price', \n",
    "             names='categ',color='categ', \n",
    "             color_discrete_map={'0':'lightcyan',\n",
    "                                 '1':'cyan',\n",
    "                                 '2':'royalblue'})\n",
    "\n",
    "# Paramètres du graphique\n",
    "fig.update_layout(\n",
    "    paper_bgcolor='rgba(0,0,0,0)', plot_bgcolor='rgba(0,0,0,0)', \n",
    "    font_color=\"black\", width=850, height=400,\n",
    "    title=dict(text='<b>Répartition des ventes par catégorie</b>'))\n",
    "\n",
    "# Affichage graphique\n",
    "fig.show()"
   ]
  },
  {
   "cell_type": "markdown",
   "id": "6b478932-4f67-418d-9d27-e294291d0548",
   "metadata": {},
   "source": [
    "------------\n",
    "<li style=\"font-size: 20px;\"><strong>Analyse par <span style=\"color: rgb(184, 49, 47);\"> produit</span></strong></li>\n",
    "</div></span></p><a class=\"anchor\" id=\"Analyse_par_produit\"></a>\n",
    "\n",
    "------------"
   ]
  },
  {
   "cell_type": "markdown",
   "id": "281e13a9-56d4-4031-9791-f78965088dcc",
   "metadata": {},
   "source": [
    "<li style=\"font-size: 16px;\"><strong>3.1 - Répartition par catégorie </strong></li>\n",
    "</div></span></p><a class=\"anchor\" id=\"Répartition_par_catégorie\"></a>"
   ]
  },
  {
   "cell_type": "markdown",
   "id": "7fbe4a79-0984-4597-841e-7755046feb57",
   "metadata": {},
   "source": [
    "##### <strong>Répartition produits par catégorie"
   ]
  },
  {
   "cell_type": "code",
   "execution_count": null,
   "id": "de932533-12ba-4670-9195-2236b5bf0173",
   "metadata": {
    "scrolled": true
   },
   "outputs": [],
   "source": [
    "# Calcul des occurences de 'catégories'\n",
    "categ_count = lapage_bdd.groupby(by=[\"categ\"]).size().reset_index(name=\"counts\")\n",
    "\n",
    "# Affichage table\n",
    "categ_count"
   ]
  },
  {
   "cell_type": "code",
   "execution_count": null,
   "id": "dc8754c9-5cd0-4ddf-9062-fba63ddc4498",
   "metadata": {},
   "outputs": [],
   "source": [
    "# Création du tracé\n",
    "fig = px.pie(categ_count, values='counts', \n",
    "             names='categ',color='categ', \n",
    "             color_discrete_map={'0':'lightcyan',\n",
    "                                 '1':'cyan',\n",
    "                                 '2':'royalblue'})\n",
    "\n",
    "# Paramètres du graphique\n",
    "fig.update_layout(\n",
    "    paper_bgcolor='rgba(0,0,0,0)', plot_bgcolor='rgba(0,0,0,0)', \n",
    "    font_color=\"black\", width=850, height=400,\n",
    "    title=dict(text='<b>Répartition produits par catégorie</b>'))\n",
    "\n",
    "# Affichage graphique\n",
    "fig.show()"
   ]
  },
  {
   "cell_type": "markdown",
   "id": "4abab43a-5484-4b50-8852-bd5ce94ff175",
   "metadata": {},
   "source": [
    "##### <strong>Répartition CA par catégorie"
   ]
  },
  {
   "cell_type": "code",
   "execution_count": null,
   "id": "e3f00f88-86d6-4bcf-9866-2cbf6c330b98",
   "metadata": {},
   "outputs": [],
   "source": [
    "# Calcul des occurences de 'catégories'\n",
    "categ_sum = lapage_bdd.groupby(by=[\"categ\"]).sum().reset_index()\n",
    "\n",
    "# sélection des colonnes à afficher\n",
    "categ_sum = categ_sum[['categ','price']]\n",
    "\n",
    "# Suppression anotation scientifique\n",
    "pd.set_option('display.float_format', lambda x: '%.2f' % x)\n",
    "\n",
    "# Affichage table\n",
    "categ_sum"
   ]
  },
  {
   "cell_type": "code",
   "execution_count": null,
   "id": "e33036af-4bc0-4edd-94d4-e29884a690bb",
   "metadata": {},
   "outputs": [],
   "source": [
    "# Création du tracé\n",
    "fig = px.pie(categ_sum, values='price', \n",
    "             names='categ',color='categ',\n",
    "             color_discrete_map={'0':'lightcyan',\n",
    "                                 '1':'cyan',\n",
    "                                 '2':'royalblue'})\n",
    "\n",
    "# Paramètres du graphique\n",
    "fig.update_layout(\n",
    "    paper_bgcolor='rgba(0,0,0,0)', plot_bgcolor='rgba(0,0,0,0)', \n",
    "    font_color=\"black\", width=850, height=400,\n",
    "    title=dict(text='<b>Répartition CA par catégorie</b>'))\n",
    "\n",
    "# Affichage graphique\n",
    "fig.show()"
   ]
  },
  {
   "cell_type": "markdown",
   "id": "ae1e4df6-ff4f-426c-bf5f-d3b2bcff9d8a",
   "metadata": {},
   "source": [
    "<li style=\"font-size: 16px;\"><strong>3.2 - Top 10 des livres les mieux vendus </strong></li>\n",
    "</div></span></p><a class=\"anchor\" id=\"Top_10_des_livres_les_mieux_vendus\"></a>"
   ]
  },
  {
   "cell_type": "code",
   "execution_count": null,
   "id": "9aaa8577-7a62-43e1-a76f-ee93765c7f17",
   "metadata": {},
   "outputs": [],
   "source": [
    "# Création du DataFrame\n",
    "top_10 = lapage_bdd.groupby(['id_prod','price',\n",
    "                         'categ']).id_prod.agg('count').to_frame('count').reset_index()\n",
    "\n",
    "# Classement des ventes par ordre croissant\n",
    "top_10 = top_10.sort_values(by=['count','categ','price'],\n",
    "                            ascending=False).head(10)\n",
    "\n",
    "# Affichage DataFrame\n",
    "top_10"
   ]
  },
  {
   "cell_type": "markdown",
   "id": "8dca52b5-b99e-4ed4-9a7a-e1150008ceba",
   "metadata": {},
   "source": [
    "<li style=\"font-size: 16px;\"><strong>3.3 - Top 10 des livres les moins vendus </strong></li>\n",
    "</div></span></p><a class=\"anchor\" id=\"Top_10_des_livres_les_moins_vendus\"></a>"
   ]
  },
  {
   "cell_type": "code",
   "execution_count": null,
   "id": "355789d4-3915-4189-8a79-37226fe82374",
   "metadata": {},
   "outputs": [],
   "source": [
    "# Création du DataFrame\n",
    "flop_10 = lapage_bdd.groupby(['id_prod', 'categ',\n",
    "                           'price']).id_prod.agg('count').to_frame('count').reset_index()\n",
    "\n",
    "# Classement des ventes par ordre croissant\n",
    "flop_10 = flop_10.sort_values(by=['count', 'categ', 'price'],\n",
    "                              ascending=True).head(10)\n",
    "\n",
    "# Affichage DataFrame\n",
    "flop_10"
   ]
  },
  {
   "cell_type": "markdown",
   "id": "de175182-4b69-4655-9ecf-d7ce3662d4f9",
   "metadata": {},
   "source": [
    "------------\n",
    "<li style=\"font-size: 20px;\"><strong>Analyse du profil <span style=\"color: rgb(184, 49, 47);\">des clients</span></strong></li>\n",
    "</div></span></p><a class=\"anchor\" id=\"Analyse_du_profil_des_clients\"></a>\n",
    "\n",
    "------------"
   ]
  },
  {
   "cell_type": "markdown",
   "id": "8dff3486-1915-4f0f-aed9-c4b154a4bcf3",
   "metadata": {},
   "source": [
    "<li style=\"font-size: 16px;\"><strong>4.1 - Répartition des clients par genre </strong></li>\n",
    "</div></span></p><a class=\"anchor\" id=\"Répartition_des clients_par_genre\"></a>"
   ]
  },
  {
   "cell_type": "code",
   "execution_count": null,
   "id": "b44866ea-a84e-49e0-b0f6-a50c53d439ec",
   "metadata": {},
   "outputs": [],
   "source": [
    "# Création DataFrame\n",
    "repart_genre = lapage_bdd.groupby(by=[\"sex\"]).size().reset_index(name=\"counts\")\n",
    "\n",
    "# Affichage DataFrame\n",
    "repart_genre"
   ]
  },
  {
   "cell_type": "code",
   "execution_count": null,
   "id": "7282364b-310f-4856-a82a-29bf98f29128",
   "metadata": {},
   "outputs": [],
   "source": [
    "# Création du tracé\n",
    "fig = px.pie(repart_genre,\n",
    "             names='sex',color='sex',\n",
    "             color_discrete_map={'f':'lightcyan',\n",
    "                                 'm':'cyan'})\n",
    "\n",
    "# Paramètres du graphique\n",
    "fig.update_layout(\n",
    "    paper_bgcolor='rgba(0,0,0,0)', plot_bgcolor='rgba(0,0,0,0)', \n",
    "    font_color=\"black\", width=850, height=400,\n",
    "    title=dict(text='<b>Répartition clients par genre</b>'))\n",
    "\n",
    "# Affichage graphique\n",
    "fig.show()"
   ]
  },
  {
   "cell_type": "markdown",
   "id": "c56943a6-5f2f-4538-bedf-0ce163074db7",
   "metadata": {},
   "source": [
    "<li style=\"font-size: 16px;\"><strong>4.2 - Répartition des clients par tranche d'âge </strong></li>\n",
    "</div></span></p><a class=\"anchor\" id=\"Répartition_par_tranche_d_age\"></a>"
   ]
  },
  {
   "cell_type": "code",
   "execution_count": null,
   "id": "ae09ee2f-6d1a-4a6c-b9d0-3eb38a38101a",
   "metadata": {},
   "outputs": [],
   "source": [
    "# Affichage DataFrame\n",
    "repart_age = lapage_bdd.groupby(by=[\"age_range\"]).size().reset_index(name=\"counts\")\n",
    "\n",
    "# Affichage DataFrame\n",
    "repart_age.sort_values(by='counts', ascending=False)"
   ]
  },
  {
   "cell_type": "code",
   "execution_count": null,
   "id": "164fa2f5-8d1a-4841-b3d5-d320566649fa",
   "metadata": {},
   "outputs": [],
   "source": [
    "# Marqueurs\n",
    "colors = ['rgb(103,177,218)'] * 8\n",
    "colors[3] = 'rgb(134,234,233)'\n",
    "\n",
    "# Création du tracé\n",
    "fig = go.Figure(data=[go.Bar(\n",
    "    x=repart_age['age_range'], y=repart_age['counts'], \n",
    "    text=repart_age['counts'], marker_color=colors)])\n",
    "\n",
    "# Paramètres du graphique\n",
    "fig.update_layout(\n",
    "    paper_bgcolor='rgba(0,0,0,0)', plot_bgcolor='rgba(0,0,0,0)', \n",
    "    font_color=\"black\", width=850, height=400,\n",
    "    title=dict(text='<b>Répartition clients par tranche d\\'âge</b>'),\n",
    "    yaxis=dict(title='Nombre de clients'),\n",
    "    margin=dict(l=0, r=50, b=50, t=30,pad=4))\n",
    "\n",
    "fig.update_traces(texttemplate='%{text}', textposition='outside')\n",
    "fig.update_xaxes(gridcolor='rgba(0,0,0,0)', linecolor='lightgrey')\n",
    "fig.update_yaxes(gridcolor='lightgrey', linecolor='lightgrey')\n",
    "\n",
    "# Affichage graphique\n",
    "fig.show()"
   ]
  },
  {
   "cell_type": "code",
   "execution_count": null,
   "id": "24b3547e-ba51-43c7-a07c-65075db84d93",
   "metadata": {
    "scrolled": true
   },
   "outputs": [],
   "source": [
    "# Création du tracé\n",
    "fig = px.pie(lapage_bdd,\n",
    "             names='age_range', color='age_range',\n",
    "             color_discrete_map={'0-20 ans':'lightcyan',\n",
    "                                 '21-30 ans':'cyan',\n",
    "                                 '31-40 ans':'royalblue',\n",
    "                                 '41-50 ans':'darkblue',\n",
    "                                 '51-60 ans':'rgb(134,234,233)',\n",
    "                                 '61-70 ans':'rgb(62,218,216)',\n",
    "                                 '71-80 ans':'rgb(55,201,239)',\n",
    "                                 '81-90 ans':'rgb(19,83,138)',\n",
    "                                 '91-100 ans':'rgb(1,160,96)'})\n",
    "\n",
    "# Paramètres du graphique\n",
    "fig.update_layout(\n",
    "    paper_bgcolor='rgba(0,0,0,0)', plot_bgcolor='rgba(0,0,0,0)', \n",
    "    font_color=\"black\", width=850, height=400,\n",
    "    title=dict(text='<b>Répartition clients par tranche d\\'âge</b>'))\n",
    "\n",
    "# Affichage graphique\n",
    "fig.show()"
   ]
  },
  {
   "cell_type": "markdown",
   "id": "6840f48e-9e13-49f9-82fb-60e471b73dfe",
   "metadata": {},
   "source": [
    "#### <STRONG>Lapage - Fin partie 1"
   ]
  }
 ],
 "metadata": {
  "kernelspec": {
   "display_name": "Python 3 (ipykernel)",
   "language": "python",
   "name": "python3"
  },
  "language_info": {
   "codemirror_mode": {
    "name": "ipython",
    "version": 3
   },
   "file_extension": ".py",
   "mimetype": "text/x-python",
   "name": "python",
   "nbconvert_exporter": "python",
   "pygments_lexer": "ipython3",
   "version": "3.9.12"
  }
 },
 "nbformat": 4,
 "nbformat_minor": 5
}
