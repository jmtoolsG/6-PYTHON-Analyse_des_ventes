{
 "cells": [
  {
   "cell_type": "markdown",
   "id": "f45ff819",
   "metadata": {},
   "source": [
    "#### <STRONG>Lapage - Partie 2"
   ]
  },
  {
   "cell_type": "markdown",
   "id": "66635b6e",
   "metadata": {},
   "source": [
    "## Table des matières<br>\n",
    "    \n",
    "* [Analyse du comportement des clients](#Analyse_du_comportement_des_clients)\n",
    "    * [Répartition du CA par client](#Répartition_du_CA_par_client)\n",
    "    * [Corrélation entre genre et catégories](#Corrélation_entre_genre)\n",
    "    * [Corrélation entre âge et achat](#Corrélation_entre_âge_et_achat)\n",
    "        * [Âge et montant des achats](#Âge_et_montant_des_achats)\n",
    "        * [Âge et fréquence d'achats](#Age_et_fréquence_d_achats)\n",
    "        * [Âge et panier moyen](#Âge_et_panier_moyen)\n",
    "            * [Âge et panier moyen](#Âge_et_panier_moyen)\n",
    "            * [Tranche d'âge et panier moyen](#Tranche_age_et_panier_moyen)\n",
    "        * [Âge et catégories de produits achetés](#Âge_et_catégories_de_produits_achetés)"
   ]
  },
  {
   "cell_type": "markdown",
   "id": "43cf31d8",
   "metadata": {},
   "source": [
    "#### <strong>Mise en place de l'environnement"
   ]
  },
  {
   "cell_type": "code",
   "execution_count": null,
   "id": "eb1f9abb",
   "metadata": {},
   "outputs": [],
   "source": [
    "# import des librairies\n",
    "import numpy as np\n",
    "import pandas as pd\n",
    "import datetime\n",
    "import plotly.express as px\n",
    "import plotly.graph_objects as go\n",
    "import scipy.stats as st\n",
    "import plotly.figure_factory as ff"
   ]
  },
  {
   "cell_type": "code",
   "execution_count": null,
   "id": "5e2dc7f8",
   "metadata": {},
   "outputs": [],
   "source": [
    "# import des .csv\n",
    "lapage_bdd = pd.read_csv('lapage_bdd.csv',parse_dates=['birth','date'])\n",
    "\n",
    "# Convertion de la colonne 'categ' en 'object'\n",
    "lapage_bdd['categ'] = lapage_bdd['categ'].astype(str)"
   ]
  },
  {
   "cell_type": "markdown",
   "id": "5f9449ca",
   "metadata": {},
   "source": [
    "------------\n",
    "<li style=\"font-size: 20px;\"><strong>Analyse du comportement <span style=\"color: rgb(184, 49, 47);\">des clients</span></strong></li>\n",
    "</div></span></p><a class=\"anchor\" id=\"Analyse_du_comportement_des_clients\"></a>\n",
    "\n",
    "------------"
   ]
  },
  {
   "cell_type": "markdown",
   "id": "52984a69",
   "metadata": {},
   "source": [
    "<li style=\"font-size: 18px;\"><strong>5.1 - Répartition du CA par client </strong></li>\n",
    "</div></span></p><a class=\"anchor\" id=\"Répartition_du_CA_par_client\"></a>"
   ]
  },
  {
   "cell_type": "markdown",
   "id": "b7e511af",
   "metadata": {},
   "source": [
    "##### <strong>Préparation du DataFrame"
   ]
  },
  {
   "cell_type": "code",
   "execution_count": null,
   "id": "0954eebf",
   "metadata": {},
   "outputs": [],
   "source": [
    "# Création DataFrame\n",
    "repart_ca_clients = lapage_bdd.groupby(by=[\"client_id\"]).sum().reset_index()\n",
    "\n",
    "# sélection des colonnes à afficher\n",
    "repart_ca_clients = repart_ca_clients[['client_id','price']]\n",
    "\n",
    "# Affichage DataFrame\n",
    "repart_ca_clients.head()"
   ]
  },
  {
   "cell_type": "markdown",
   "id": "943c478a",
   "metadata": {},
   "source": [
    "##### <strong>Recherche de valeurs aberrantes par Zscore"
   ]
  },
  {
   "cell_type": "code",
   "execution_count": null,
   "id": "e12d819d",
   "metadata": {},
   "outputs": [],
   "source": [
    "# Calcul du \"zscore\"\n",
    "repart_ca_clients['zscore'] = ((repart_ca_clients['price'] - repart_ca_clients['price'].mean())/\n",
    "                               repart_ca_clients['price'].std())\n",
    "\n",
    "# Création colonne \"zscore_outlier\"\n",
    "repart_ca_clients[\"zscore_outliers\"] = (abs(repart_ca_clients['zscore'])>1.96)\n",
    "\n",
    "# Affichage des résultats\n",
    "print(\"Nombre de valeurs non aberrantes: \" + str(repart_ca_clients.zscore_outliers.value_counts()[0]))\n",
    "print(\"Nombre de valeurs aberrantes: \" + str(repart_ca_clients.zscore_outliers.value_counts()[1]))"
   ]
  },
  {
   "cell_type": "code",
   "execution_count": null,
   "id": "90b33457",
   "metadata": {},
   "outputs": [],
   "source": [
    "# Création DataFrame (fichier des valeurs aberrantes)\n",
    "repart_ca_clients_outliers = repart_ca_clients[abs(\n",
    "    repart_ca_clients['zscore'] > 1.96)].sort_values(by=['price'],\n",
    "                                                     ascending = False)\n",
    "\n",
    "# sélection des colonnes à afficher\n",
    "repart_ca_clients_outliers = repart_ca_clients_outliers[['client_id','price','zscore_outliers']]\n",
    "\n",
    "# Affichage DataFrame\n",
    "repart_ca_clients_outliers"
   ]
  },
  {
   "cell_type": "code",
   "execution_count": null,
   "id": "6df78227",
   "metadata": {},
   "outputs": [],
   "source": [
    "# Création DataFrame (fichier sans valeurs aberrantes)\n",
    "repart_ca_clients_no_outliers = repart_ca_clients[abs(\n",
    "    repart_ca_clients['zscore'] < 1.96)].sort_values(by=['price'],\n",
    "                                                     ascending = False)\n",
    "\n",
    "# sélection des colonnes à afficher\n",
    "repart_ca_clientsno_outliers = repart_ca_clients_no_outliers[['client_id','price','zscore_outliers']]\n",
    "\n",
    "# Affichage DataFrame\n",
    "repart_ca_clients_no_outliers.head()"
   ]
  },
  {
   "cell_type": "code",
   "execution_count": null,
   "id": "6ac86c1f",
   "metadata": {},
   "outputs": [],
   "source": [
    "# Calcul de la représentation du CA des outliers\n",
    "# Groupements par catégories de outliers\n",
    "repart_pop_outliers = (repart_ca_clients.groupby(by=[\"zscore_outliers\"],\n",
    "                                             dropna=False).count()).reset_index()\n",
    "\n",
    "# Calcul du % de CA\n",
    "repart_pop_outliers['% pop'] = (((repart_pop_outliers['client_id']) /\n",
    "                               (repart_pop_outliers['client_id']).sum()) * 100).round(4)\n",
    "\n",
    "# Suprression de la colonne\n",
    "repart_pop_outliers = repart_pop_outliers.drop(columns=['price','zscore'])\n",
    "\n",
    "# Affichage DataFrame\n",
    "repart_pop_outliers"
   ]
  },
  {
   "cell_type": "code",
   "execution_count": null,
   "id": "a189af9d",
   "metadata": {},
   "outputs": [],
   "source": [
    "# Calcul de la représentation du CA des outliers\n",
    "# Groupements par catégories de outliers\n",
    "repart_ca_outliers = (repart_ca_clients.groupby(by=[\"zscore_outliers\"],\n",
    "                                             dropna=False).sum()).reset_index()\n",
    "\n",
    "# Calcul du % de CA\n",
    "repart_ca_outliers['% CA'] = (((repart_ca_outliers['price']) /\n",
    "                               (repart_ca_outliers['price']).sum()) * 100).round(4)\n",
    "\n",
    "# Suprression de la colonne\n",
    "repart_ca_outliers = repart_ca_outliers.drop(columns=['zscore'])\n",
    "    \n",
    "# Affichage DataFrame\n",
    "repart_ca_outliers"
   ]
  },
  {
   "cell_type": "markdown",
   "id": "638adbb5",
   "metadata": {},
   "source": [
    "<div class=\"alert alert-block alert-info\">\n",
    "<b>Note :</b> On constate lors du nettoyage des données que 4 clients représentent 7.43% du CA pour seulement 0.046% du nombre de clients total.\n",
    "</div>"
   ]
  },
  {
   "cell_type": "markdown",
   "id": "2d3f831d",
   "metadata": {},
   "source": [
    "##### <strong>Courbe de Lorenz"
   ]
  },
  {
   "cell_type": "code",
   "execution_count": null,
   "id": "8bb6211b",
   "metadata": {},
   "outputs": [],
   "source": [
    "# Courbe de Lorenz\n",
    "repart_ca_clients = repart_ca_clients[repart_ca_clients['price'] > 0]\n",
    "dep = repart_ca_clients['price'].values\n",
    "n = len(dep)\n",
    "lorenz = np.cumsum(np.sort(dep)) / dep.sum()\n",
    "lorenz = np.append([0],lorenz) # La courbe de Lorenz commence à 0\n",
    "medial = lorenz[(lorenz < 0.5)].size / lorenz.size\n",
    "xaxis = np.linspace(0-1/n,1+1/n,n+1) \n",
    "\n",
    "# Create traces\n",
    "fig = go.Figure()\n",
    "fig.add_trace(go.Scatter(x=[0, 1], y=[0, 1],\n",
    "                    mode='lines', name='Equality', line=dict(color=\"red\")))\n",
    "\n",
    "fig.add_trace(go.Scatter(x=xaxis, y=lorenz,\n",
    "                    mode='lines', name='Lorenz', line=dict(color=\"cyan\")))\n",
    "\n",
    "fig.add_trace(go.Scatter(x=[0,medial], y=[0.5,0.5],\n",
    "                    mode='lines', name='Mediale CA', line=dict(color=\"royalblue\")))\n",
    "\n",
    "fig.add_trace(go.Scatter(x=[medial,medial], y=[0,0.5],\n",
    "                    mode='lines', name='Mediale client', line=dict(color=\"darkblue\")))\n",
    "\n",
    "# Paramètres du graphique\n",
    "fig.update_layout(\n",
    "    paper_bgcolor='rgba(0,0,0,0)', plot_bgcolor='rgba(0,0,0,0)', \n",
    "    font_color=\"black\", autosize=False, width=600, height=600, showlegend=True,\n",
    "    title=dict(text='<b>Répartition CA par client</b>'),\n",
    "    xaxis=dict(title='Part clients cumulée (%)'), \n",
    "    yaxis=dict(title='Chiffre d\\'affaires cumulée (%)'),\n",
    "    legend=dict(orientation=\"h\", y=1.05, xanchor=\"right\", x=1))\n",
    "\n",
    "fig.update_xaxes(gridcolor='rgba(0,0,0,0)', linecolor='lightgrey')\n",
    "fig.update_yaxes(gridcolor='lightgrey', linecolor='lightgrey')\n",
    "\n",
    "# Affichage graphique\n",
    "fig.show()"
   ]
  },
  {
   "cell_type": "markdown",
   "id": "175555f5",
   "metadata": {},
   "source": [
    "##### <strong>Indice de Gini"
   ]
  },
  {
   "cell_type": "code",
   "execution_count": null,
   "id": "51de003c",
   "metadata": {},
   "outputs": [],
   "source": [
    "# Calcul indice de Gini (avec outliers)\n",
    "# Surface sous la courbe de Lorenz\n",
    "AUC = (lorenz.sum() - lorenz[-1]/2 - lorenz[0]/2)/n\n",
    "# surface entre la première bissectrice et le courbe de Lorenz\n",
    "S = 0.5 - AUC \n",
    "gini = 2*S\n",
    "print('Indice de Gini:',gini.round(2))"
   ]
  },
  {
   "cell_type": "markdown",
   "id": "a907e4b6",
   "metadata": {},
   "source": [
    "<div class=\"alert alert-block alert-info\">\n",
    "<b>Note :</b> L'indice de Gini confirme une répartition du CA assez équilibrée.<br>\n",
    "En revanche, 4 clients représentent une part de CA supérieur à 7%, ce qui peut faire penser à des clients de type professionnels.\n",
    "</div>"
   ]
  },
  {
   "cell_type": "markdown",
   "id": "00ae39ea",
   "metadata": {},
   "source": [
    "<li style=\"font-size: 18px;\"><strong>5.2 - Corrélation entre genre et catégories des livres achetés </strong></li>\n",
    "</div></span></p><a class=\"anchor\" id=\"Corrélation_entre_genre_et_catégories_des_livres_achetés\"></a>"
   ]
  },
  {
   "cell_type": "markdown",
   "id": "49c37b98",
   "metadata": {},
   "source": [
    "##### <strong> Comparaison entre 2 variables qualitatives"
   ]
  },
  {
   "cell_type": "markdown",
   "id": "800b5140",
   "metadata": {},
   "source": [
    "##### <strong> Test du Chi-2"
   ]
  },
  {
   "cell_type": "code",
   "execution_count": null,
   "id": "302e454d",
   "metadata": {},
   "outputs": [],
   "source": [
    "# Création de la matrice \"valeurs observées\" (tableau de contingence)\n",
    "X = \"sex\"\n",
    "Y = \"categ\"\n",
    "cont = lapage_bdd[[X, Y]].pivot_table(index=X, columns=Y, aggfunc=len).fillna(0).copy()\n",
    "tx = lapage_bdd[X].value_counts()\n",
    "ty = lapage_bdd[Y].value_counts()\n",
    "cont = cont.astype(int)\n",
    "\n",
    "# Affichage tableau\n",
    "cont"
   ]
  },
  {
   "cell_type": "code",
   "execution_count": null,
   "id": "6e8a65f3",
   "metadata": {},
   "outputs": [],
   "source": [
    "# Création de la matrice \"valeurs attendues\"\n",
    "tx_df = pd.DataFrame(tx)\n",
    "tx_df.columns = [\"c\"]\n",
    "ty_df = pd.DataFrame(ty)\n",
    "ty_df.columns = [\"c\"]\n",
    "\n",
    "# Valeurs totales observées\n",
    "n = len(lapage_bdd)\n",
    "\n",
    "# Produit matriciel. On utilise pd.T pour pivoter une des deux séries.\n",
    "indep = (tx_df.dot(ty_df.T) / n).round(2)\n",
    "\n",
    "# Affichage tableau\n",
    "indep"
   ]
  },
  {
   "cell_type": "code",
   "execution_count": null,
   "id": "46dfff40",
   "metadata": {},
   "outputs": [],
   "source": [
    "# Calcul de la matrice \"écart au carré normalisé de la valeur attendue VS valeur observée\"\n",
    "freq = ((cont-indep)**2/indep).round(2)\n",
    "\n",
    "# Affichage tableau\n",
    "freq"
   ]
  },
  {
   "cell_type": "code",
   "execution_count": null,
   "id": "f1117cd5",
   "metadata": {},
   "outputs": [],
   "source": [
    "# Calcul du Chi2\n",
    "chi2 = (freq.sum().sum()).round(2)\n",
    "\n",
    "# Affichage résultat\n",
    "chi2"
   ]
  },
  {
   "cell_type": "markdown",
   "id": "252233d8",
   "metadata": {},
   "source": [
    "##### <strong> Test du Chi-2 via scipy.stats"
   ]
  },
  {
   "cell_type": "code",
   "execution_count": null,
   "id": "65a9f97e",
   "metadata": {},
   "outputs": [],
   "source": [
    "# test du Chi2\n",
    "st_chi2, st_p, st_dof, st_exp = st.chi2_contingency(cont)"
   ]
  },
  {
   "cell_type": "code",
   "execution_count": null,
   "id": "9166e8da",
   "metadata": {},
   "outputs": [],
   "source": [
    "# chi2, p, dof, ex = stats.chi2_contingency(categ_sex)\n",
    "print ('Chi2:',st_chi2.round(2))\n",
    "print('Degré de liberté:', st_dof)\n",
    "print('P-Value:', st_p)\n",
    "print('Table théorique:')\n",
    "pd.DataFrame(st_exp.round(2))"
   ]
  },
  {
   "cell_type": "markdown",
   "id": "f587362b",
   "metadata": {},
   "source": [
    "<div class=\"alert alert-block alert-warning\">\n",
    "<b>Remarques :</b><br><br>\n",
    " L'hypothèse nulle (H0) de ce test est la suivante : les deux variables <b>'sex'</b> et <b>'categ'</b> sont indépendantes.<br><br>\n",
    "Avec un risque de se tromper (rejeter à tort l'hypothèse nulle) égal à 5 % pour un d.d.l. de 2, la valeur critique trouvée dans les tables serait de 5,991 or notre Chi2 est de 147,12.<br><br>    \n",
    "On peut donc rejeter H0 et conclure qu'il y a une corrélation entre <b>'sex'</b> et <b>'categ'</b>.\n",
    "</div>"
   ]
  },
  {
   "cell_type": "markdown",
   "id": "80bd91f8",
   "metadata": {},
   "source": [
    "##### <strong> Heatmap"
   ]
  },
  {
   "cell_type": "code",
   "execution_count": null,
   "id": "edd9f510",
   "metadata": {},
   "outputs": [],
   "source": [
    "# Création de la matrice\n",
    "cont_heat = lapage_bdd[[X, Y]].pivot_table(index=X, columns=Y, aggfunc=len).fillna(0).copy()\n",
    "nmp = cont_heat.to_numpy()\n",
    "z = nmp\n",
    "\n",
    "x = ['Categ 1', 'Categ 2', 'Categ 3']\n",
    "y = ['Femmes', 'Hommes']\n",
    "\n",
    "# Création du tracé\n",
    "fig = ff.create_annotated_heatmap(z, x=x, y=y,colorscale=[[0, 'cyan'],\n",
    "                                              [1.0, 'royalblue']])\n",
    "\n",
    "# Paramètres du graphique\n",
    "fig.update_layout(\n",
    "    paper_bgcolor='rgba(0,0,0,0)', plot_bgcolor='rgba(0,0,0,0)',\n",
    "    font_color=\"black\", width=850, height=400,\n",
    "    title=dict(text='<b>Corrélation entre genre et catégorie</b>', font_size=18))\n",
    "\n",
    "fig.update_xaxes(gridcolor='rgba(0,0,0,0)', linecolor='rgba(0,0,0,0)')\n",
    "fig.update_yaxes(gridcolor='rgba(0,0,0,0)', linecolor='rgba(0,0,0,0)')\n",
    "\n",
    "# Affichage graphique\n",
    "fig.show()"
   ]
  },
  {
   "cell_type": "markdown",
   "id": "4bf0de0e",
   "metadata": {},
   "source": [
    "<li style=\"font-size: 18px;\"><strong>5.3 - Corrélation entre âge et achat </strong></li>\n",
    "</div></span></p><a class=\"anchor\" id=\"Corrélation_entre_âge_et_achat\"></a>"
   ]
  },
  {
   "cell_type": "markdown",
   "id": "d1ee3f86",
   "metadata": {},
   "source": [
    "<div class=\"alert alert-block alert-info\">\n",
    "<b>Note :</b> Pour cette partie, nous utiliserons la base de donnée sans les 4 gros clients. Ces derniers pourraient biaiser les résultats tant par leur représentation numérique mais surtout par leur représentation en terme de CA.\n",
    "</div>"
   ]
  },
  {
   "cell_type": "markdown",
   "id": "fd417992",
   "metadata": {},
   "source": [
    "##### <strong>Préparation du DataFrame"
   ]
  },
  {
   "cell_type": "code",
   "execution_count": null,
   "id": "17a5f46e",
   "metadata": {},
   "outputs": [],
   "source": [
    "#Fichier sans les 4 gros clients\n",
    "lapage_bdd_NO = lapage_bdd.loc[(lapage_bdd['client_id']!='c_1609')]\n",
    "lapage_bdd_NO = lapage_bdd_NO.loc[(lapage_bdd_NO['client_id']!='c_4958')]\n",
    "lapage_bdd_NO = lapage_bdd_NO.loc[(lapage_bdd_NO['client_id']!='c_6714')]\n",
    "lapage_bdd_NO = lapage_bdd_NO.loc[(lapage_bdd_NO['client_id']!='c_3454')]\n",
    "\n",
    "# Tri croissant par catégorie d'âge\n",
    "lapage_bdd_NO = lapage_bdd_NO.sort_values(by='age_range', ascending=True)\n",
    "\n",
    "# Affichage DataFrame\n",
    "lapage_bdd_NO.head()"
   ]
  },
  {
   "cell_type": "markdown",
   "id": "2fcb318f",
   "metadata": {},
   "source": [
    "<li style=\"font-size: 16px;\"><strong>5.3.1 - Âge et montant des achats </strong></li>\n",
    "</div></span></p><a class=\"anchor\" id=\"Âge_et_montant_des_achats\"></a>"
   ]
  },
  {
   "cell_type": "markdown",
   "id": "b8f612d0",
   "metadata": {},
   "source": [
    "##### <strong> Comparaison entre 2 variables quantitatives"
   ]
  },
  {
   "cell_type": "code",
   "execution_count": null,
   "id": "0b0e7e5a",
   "metadata": {
    "scrolled": true
   },
   "outputs": [],
   "source": [
    "# Création du tracé\n",
    "fig = px.scatter(lapage_bdd_NO, x='age', y='price',\n",
    "            color_discrete_sequence=px.colors.qualitative.Pastel)\n",
    "\n",
    "# Paramètres du graphique\n",
    "fig.update_layout(\n",
    "    paper_bgcolor='rgba(0,0,0,0)', plot_bgcolor='rgba(0,0,0,0)',\n",
    "    font_color=\"black\", width=850, height=400,\n",
    "    title=dict(text='<b>Corrélation entre âge et montant des achats</b>', font_size=18), \n",
    "    xaxis=dict(title='Âge'), yaxis=dict(title='Montant des achats en (€)'))\n",
    "\n",
    "fig.update_xaxes(gridcolor='rgba(0,0,0,0)', linecolor='lightgrey')\n",
    "fig.update_yaxes(gridcolor='lightgrey', linecolor='lightgrey')\n",
    "\n",
    "# Affichage graphique\n",
    "fig.show()"
   ]
  },
  {
   "cell_type": "markdown",
   "id": "5db073dc",
   "metadata": {},
   "source": [
    "##### <strong>Pearson"
   ]
  },
  {
   "cell_type": "code",
   "execution_count": null,
   "id": "022e4a6c",
   "metadata": {},
   "outputs": [],
   "source": [
    "# Calcul du coefficient de corrélation\n",
    "r, p = st.pearsonr(lapage_bdd_NO['age'],lapage_bdd_NO['price'])\n",
    "print('Pearson: ',r)\n",
    "print('P-Value: ',p)\n",
    "\n",
    "# Matrice de covariance\n",
    "print('Covariance: ',np.cov(lapage_bdd_NO['age'],lapage_bdd_NO['price'],ddof=0)[1,0])"
   ]
  },
  {
   "cell_type": "markdown",
   "id": "7cf5298d",
   "metadata": {},
   "source": [
    "<div class=\"alert alert-block alert-warning\">\n",
    "<b>Remarques :</b><br><br>\n",
    " L'hypothèse nulle (H0) de ce test est la suivante : les deux variables <b>'age'</b> et <b>'price'</b> sont indépendantes.<br><br>\n",
    "Le test de Pearson étant proche de 0, on peut donc confirmer H0 et conclure qu'il n'y a pas corrélation entre entre <b>'age'</b> et <b>'price'</b>.\n",
    "</div>"
   ]
  },
  {
   "cell_type": "markdown",
   "id": "c3f94fa8",
   "metadata": {},
   "source": [
    "##### <strong> Comparaison entre 2 variables quantitatives et qualititatives"
   ]
  },
  {
   "cell_type": "code",
   "execution_count": null,
   "id": "a8e49dc1",
   "metadata": {},
   "outputs": [],
   "source": [
    "# Création du tracé\n",
    "fig = px.box(lapage_bdd_NO, x='price', y='age_range',\n",
    "            color_discrete_sequence=px.colors.qualitative.Pastel)\n",
    "\n",
    "# Paramètres du graphique\n",
    "fig.update_layout(\n",
    "    paper_bgcolor='rgba(0,0,0,0)', plot_bgcolor='rgba(0,0,0,0)',\n",
    "    font_color=\"black\", width=850, height=400,\n",
    "    title=dict(text='<b>Corrélation entre âge et montant des achats</b>', font_size=18), \n",
    "    xaxis=dict(title='Montant des achats en (€)'), yaxis=dict(title='Tranche d\\'âge'))\n",
    "\n",
    "fig.update_xaxes(gridcolor='rgba(0,0,0,0)', linecolor='lightgrey')\n",
    "fig.update_yaxes(gridcolor='lightgrey', linecolor='lightgrey')\n",
    "\n",
    "# Affichage graphique\n",
    "fig.show()"
   ]
  },
  {
   "cell_type": "markdown",
   "id": "c5330656",
   "metadata": {},
   "source": [
    "##### <strong>Anova"
   ]
  },
  {
   "cell_type": "code",
   "execution_count": null,
   "id": "f5fccc5c",
   "metadata": {},
   "outputs": [],
   "source": [
    "# Calcul eta squared\n",
    "X = lapage_bdd_NO['age_range'] # qualitative\n",
    "Y = lapage_bdd_NO['price'] # quantitative\n",
    "\n",
    "def eta_squared(x,y):\n",
    "    moyenne_y = y.mean()\n",
    "    classes = []\n",
    "    for classe in x.unique():\n",
    "        yi_classe = y[x==classe]\n",
    "        classes.append({'ni': len(yi_classe),\n",
    "                        'moyenne_classe': yi_classe.mean()})\n",
    "    SCT = sum([(yj-moyenne_y)**2 for yj in y])\n",
    "    SCE = sum([c['ni']*(c['moyenne_classe']-moyenne_y)**2 for c in classes])\n",
    "    return SCE/SCT\n",
    "    \n",
    "eta_squared(X,Y)"
   ]
  },
  {
   "cell_type": "markdown",
   "id": "6c4c7add",
   "metadata": {},
   "source": [
    "<div class=\"alert alert-block alert-warning\">\n",
    "<b>Remarques :</b><br><br>\n",
    " L'hypothèse nulle (H0) de ce test est la suivante : les deux variables <b>'age'</b> et <b>'price'</b> sont indépendantes.<br><br>\n",
    "Le test Anova étant proche de 0, on peut donc confirmer H0 et conclure qu'il n'y a pas corrélation entre entre <b>'age'</b> et <b>'price'</b>.\n",
    "</div>    "
   ]
  },
  {
   "cell_type": "markdown",
   "id": "2d1d5412",
   "metadata": {},
   "source": [
    "<li style=\"font-size: 16px;\"><strong>5.3.2 - Âge et fréquence d'achats</strong></li>\n",
    "</div></span></p><a class=\"anchor\" id=\"Age_et_fréquence_d_achats\"></a>"
   ]
  },
  {
   "cell_type": "markdown",
   "id": "ceddc5d9",
   "metadata": {},
   "source": [
    "##### <strong> Comparaison entre 2 variables quantitatives"
   ]
  },
  {
   "cell_type": "code",
   "execution_count": null,
   "id": "4681ae33",
   "metadata": {},
   "outputs": [],
   "source": [
    "# Création DataFrame\n",
    "age_freq = lapage_bdd_NO.groupby(by=['client_id','age','age_range']).size().reset_index(name='freq').sort_values(by='age')\n",
    "\n",
    "# Affichage DataFrame\n",
    "age_freq.head()"
   ]
  },
  {
   "cell_type": "code",
   "execution_count": null,
   "id": "e0008050",
   "metadata": {},
   "outputs": [],
   "source": [
    "# Création du tracé\n",
    "fig = px.scatter(age_freq, x='age', y='freq',\n",
    "                 color_discrete_sequence=px.colors.qualitative.Pastel)\n",
    "\n",
    "# Paramètres du graphique\n",
    "fig.update_layout(\n",
    "    paper_bgcolor='rgba(0,0,0,0)', plot_bgcolor='rgba(0,0,0,0)', \n",
    "    font_color=\"black\", width=850, height=400,\n",
    "    title=dict(text='<b>Corrélation entre âge et fréquence d\\'achats</b>', font_size=18),\n",
    "    xaxis=dict(title='Âge'), yaxis=dict(title='Fréquence d\\'achats en (€)'))\n",
    "\n",
    "fig.update_xaxes(gridcolor='rgba(0,0,0,0)', linecolor='lightgrey')\n",
    "fig.update_yaxes(gridcolor='lightgrey', linecolor='lightgrey')\n",
    "\n",
    "# Affichage graphique\n",
    "fig.show()"
   ]
  },
  {
   "cell_type": "markdown",
   "id": "1cf065b9",
   "metadata": {},
   "source": [
    "##### <strong>Pearson"
   ]
  },
  {
   "cell_type": "code",
   "execution_count": null,
   "id": "e2fe4a0b",
   "metadata": {},
   "outputs": [],
   "source": [
    "# Calcul du coefficient de corrélation\n",
    "r, p = st.pearsonr(age_freq['age'],age_freq['freq'])\n",
    "print('Pearson: ',r)\n",
    "print('P-Value: ',p)\n",
    "\n",
    "# Matrice de covariance\n",
    "print('Covariance: ',np.cov(age_freq['age'],age_freq['freq'],ddof=0)[1,0])"
   ]
  },
  {
   "cell_type": "markdown",
   "id": "9ae53fef",
   "metadata": {},
   "source": [
    "<div class=\"alert alert-block alert-warning\">\n",
    "<b>Remarques :</b><br><br>\n",
    " L'hypothèse nulle (H0) de ce test est la suivante : les deux variables <b>'age'</b> et <b>'freq'</b> sont indépendantes.<br><br>\n",
    "Le test de Pearson étant proche de 0, on peut donc confirmer H0 et conclure qu'il n'y a pas corrélation entre entre <b>'age'</b> et <b>'freq'</b>.\n",
    "</div>"
   ]
  },
  {
   "cell_type": "markdown",
   "id": "806b63c1",
   "metadata": {},
   "source": [
    "##### <strong> Comparaison entre 2 variables quantitatives et qualitatives"
   ]
  },
  {
   "cell_type": "code",
   "execution_count": null,
   "id": "6424b0a3",
   "metadata": {},
   "outputs": [],
   "source": [
    "# Création du tracé\n",
    "fig = px.box(age_freq, x='freq', y='age_range',\n",
    "                 color_discrete_sequence=px.colors.qualitative.Pastel)\n",
    "\n",
    "# Paramètres du graphique\n",
    "fig.update_layout(\n",
    "    paper_bgcolor='rgba(0,0,0,0)', plot_bgcolor='rgba(0,0,0,0)', \n",
    "    font_color=\"black\", width=850, height=400,\n",
    "    title=dict(text='<b>Corrélation entre âge et fréquence d\\'achats</b>', font_size=18),\n",
    "    xaxis=dict(title='Âge'), yaxis=dict(title='Fréquence d\\'achats en (€)'))\n",
    "\n",
    "fig.update_xaxes(gridcolor='rgba(0,0,0,0)', linecolor='lightgrey')\n",
    "fig.update_yaxes(gridcolor='lightgrey', linecolor='lightgrey')\n",
    "\n",
    "# Affichage graphique\n",
    "fig.show()"
   ]
  },
  {
   "cell_type": "markdown",
   "id": "1bf02eb0",
   "metadata": {},
   "source": [
    "##### <strong>Anova"
   ]
  },
  {
   "cell_type": "code",
   "execution_count": null,
   "id": "113acdf1",
   "metadata": {},
   "outputs": [],
   "source": [
    "# Calcul eta squared\n",
    "X = age_freq['age_range'] # qualitative\n",
    "Y = age_freq['freq'] # quantitative\n",
    "\n",
    "def eta_squared(x,y):\n",
    "    moyenne_y = y.mean()\n",
    "    classes = []\n",
    "    for classe in x.unique():\n",
    "        yi_classe = y[x==classe]\n",
    "        classes.append({'ni': len(yi_classe),\n",
    "                        'moyenne_classe': yi_classe.mean()})\n",
    "    SCT = sum([(yj-moyenne_y)**2 for yj in y])\n",
    "    SCE = sum([c['ni']*(c['moyenne_classe']-moyenne_y)**2 for c in classes])\n",
    "    return SCE/SCT\n",
    "    \n",
    "eta_squared(X,Y)"
   ]
  },
  {
   "cell_type": "markdown",
   "id": "a3dae227",
   "metadata": {},
   "source": [
    "<div class=\"alert alert-block alert-warning\">\n",
    "<b>Remarques :</b><br><br>\n",
    " L'hypothèse nulle (H0) de ce test est la suivante : les deux variables <b>'age'</b> et <b>'freq'</b> sont indépendantes.<br><br>\n",
    "Le test Anova étant proche de 0, on peut donc confirmer H0 et conclure qu'il n'y a pas corrélation entre entre <b>'age'</b> et <b>'freq'</b>.\n",
    "</div>"
   ]
  },
  {
   "cell_type": "markdown",
   "id": "1e09232a",
   "metadata": {},
   "source": [
    "<li style=\"font-size: 16px;\"><strong>5.3.3 - Âge et panier moyen </strong></li>\n",
    "</div></span></p><a class=\"anchor\" id=\"Âge_et_panier_moyen\"></a>"
   ]
  },
  {
   "cell_type": "markdown",
   "id": "b4e2091c",
   "metadata": {},
   "source": [
    "##### <strong> Comparaison entre 2 variables quantitatives"
   ]
  },
  {
   "cell_type": "code",
   "execution_count": null,
   "id": "adfe0a43",
   "metadata": {},
   "outputs": [],
   "source": [
    "# Création DataFrame\n",
    "corr_age_panier = lapage_bdd_NO.groupby(by=['client_id','age','age_range']).mean().reset_index().sort_values(by='age_range')\n",
    "\n",
    "# Affichage DataFrame\n",
    "corr_age_panier.head()"
   ]
  },
  {
   "cell_type": "code",
   "execution_count": null,
   "id": "3b95930d",
   "metadata": {},
   "outputs": [],
   "source": [
    "# Création du tracé\n",
    "fig = px.scatter(corr_age_panier, x='age', y='price',\n",
    "             color_discrete_sequence=px.colors.qualitative.Pastel)\n",
    "\n",
    "# Paramètres du graphique\n",
    "fig.update_layout(\n",
    "    paper_bgcolor='rgba(0,0,0,0)', plot_bgcolor='rgba(0,0,0,0)',\n",
    "    font_color=\"black\", width=850, height=400,\n",
    "    title=dict(text='<b>Corrélation entre âge et panier moyen</b>', font_size=18),\n",
    "    xaxis=dict(title='Âge'), yaxis=dict(title='Panier moyen en (€)'),\n",
    "    margin=dict(  l=50,  r=50, b=50, t=50,pad=4))\n",
    "\n",
    "fig.update_xaxes(gridcolor='rgba(0,0,0,0)', linecolor='lightgrey')\n",
    "fig.update_yaxes(gridcolor='lightgrey', linecolor='lightgrey')\n",
    "\n",
    "# Affichage graphique\n",
    "fig.show()"
   ]
  },
  {
   "cell_type": "markdown",
   "id": "e707dc7b",
   "metadata": {},
   "source": [
    "##### <strong>Pearson"
   ]
  },
  {
   "cell_type": "code",
   "execution_count": null,
   "id": "b4617c6e",
   "metadata": {},
   "outputs": [],
   "source": [
    "# Calcul du coefficient de corrélation\n",
    "r, p = st.pearsonr(corr_age_panier['age'],corr_age_panier['price'])\n",
    "print('Pearson: ',r)\n",
    "print('P-Value: ',p)\n",
    "\n",
    "# Matrice de covariance\n",
    "print('Covariance: ',np.cov(corr_age_panier['age'],corr_age_panier['price'],ddof=0)[1,0])"
   ]
  },
  {
   "cell_type": "markdown",
   "id": "babc2b70",
   "metadata": {},
   "source": [
    "<div class=\"alert alert-block alert-warning\">\n",
    "<b>Remarques :</b><br><br>\n",
    " L'hypothèse nulle (H0) de ce test est la suivante : les deux variables <b>'age'</b> et <b>'price'</b> sont indépendantes.<br><br>\n",
    "Le test de Pearson étant de 0.51, on peut ni confirmer ni infirmer H0, en revanche on note un certain rapport de cause à effet entre <b>'age'</b> et <b>'price'</b> en fonction du regroupement de certaines tranches d'âge.\n",
    "</div>"
   ]
  },
  {
   "cell_type": "markdown",
   "id": "ff3df416",
   "metadata": {},
   "source": [
    "##### <strong> Comparaison entre 2 variables quantitatives et  qualitatives"
   ]
  },
  {
   "cell_type": "code",
   "execution_count": null,
   "id": "ccfe0f55",
   "metadata": {},
   "outputs": [],
   "source": [
    "# Création du tracé\n",
    "fig = px.box(corr_age_panier, x='price', y='age_range',\n",
    "             color_discrete_sequence=px.colors.qualitative.Pastel)\n",
    "\n",
    "# Paramètres du graphique\n",
    "fig.update_layout(\n",
    "    paper_bgcolor='rgba(0,0,0,0)', plot_bgcolor='rgba(0,0,0,0)',\n",
    "    font_color=\"black\", width=850, height=400,\n",
    "    title=dict(text='<b>Corrélation entre tranche d\\'âge et panier moyen</b>', font_size=18),\n",
    "    xaxis=dict(title='Panier moyen en (€)'), yaxis=dict(title='Âge'),\n",
    "    margin=dict(  l=50,  r=50, b=50, t=50,pad=4))\n",
    "\n",
    "fig.update_xaxes(gridcolor='rgba(0,0,0,0)', linecolor='lightgrey')\n",
    "fig.update_yaxes(gridcolor='lightgrey', linecolor='lightgrey')\n",
    "\n",
    "# Affichage graphique\n",
    "fig.show()"
   ]
  },
  {
   "cell_type": "markdown",
   "id": "7537b363",
   "metadata": {},
   "source": [
    "##### <strong>Anova"
   ]
  },
  {
   "cell_type": "code",
   "execution_count": null,
   "id": "2775ae54",
   "metadata": {},
   "outputs": [],
   "source": [
    "# Calcul eta squared\n",
    "X = corr_age_panier['age_range'] # qualitative\n",
    "Y = corr_age_panier['price'] # quantitative\n",
    "\n",
    "def eta_squared(x,y):\n",
    "    moyenne_y = y.mean()\n",
    "    classes = []\n",
    "    for classe in x.unique():\n",
    "        yi_classe = y[x==classe]\n",
    "        classes.append({'ni': len(yi_classe),\n",
    "                        'moyenne_classe': yi_classe.mean()})\n",
    "    SCT = sum([(yj-moyenne_y)**2 for yj in y])\n",
    "    SCE = sum([c['ni']*(c['moyenne_classe']-moyenne_y)**2 for c in classes])\n",
    "    return SCE/SCT\n",
    "    \n",
    "eta_squared(X,Y)"
   ]
  },
  {
   "cell_type": "markdown",
   "id": "a764d5c4",
   "metadata": {},
   "source": [
    "<div class=\"alert alert-block alert-warning\">\n",
    "<b>Remarques :</b><br><br>\n",
    " L'hypothèse nulle (H0) de ce test est la suivante : les deux variables <b>'X'</b> et <b>'Y'</b> sont indépendantes.<br><br>\n",
    "Le test de Anova étant de 0.57, on peut ni confirmer ni infirmer H0, en revanche on note un certain rapport de cause à effet entre <b>'age'</b> et <b>'price'</b> en fonction du regroupement de certaines tranches d'âge."
   ]
  },
  {
   "cell_type": "markdown",
   "id": "e84fc3e0",
   "metadata": {},
   "source": [
    "<li style=\"font-size: 16px;\"><strong>5.3.4 - Âge et catégories de produits achetés </strong></li>\n",
    "</div></span></p><a class=\"anchor\" id=\"Âge_et_catégories_de_produits_achetés\"></a>"
   ]
  },
  {
   "cell_type": "markdown",
   "id": "51334eab",
   "metadata": {},
   "source": [
    "##### <strong> Comparaison entre 2 variables quantitatives et  qualitatives"
   ]
  },
  {
   "cell_type": "code",
   "execution_count": null,
   "id": "55b23fb5",
   "metadata": {},
   "outputs": [],
   "source": [
    "# Création du tracé\n",
    "fig = px.box(lapage_bdd_NO, x='age', y=\"categ\", \n",
    "             color_discrete_sequence=px.colors.qualitative.Pastel)\n",
    "\n",
    "# Paramètres du graphique\n",
    "fig.update_layout(\n",
    "    paper_bgcolor='rgba(0,0,0,0)', plot_bgcolor='rgba(0,0,0,0)', \n",
    "    font_color=\"black\", width=850, height=400,\n",
    "    title=dict(text='<b>Corrélation entre âge et catégorie</b>', font_size=18),\n",
    "    xaxis=dict(title='Âge'), yaxis=dict(title='Catégorie'))\n",
    "\n",
    "fig.update_xaxes(gridcolor='rgba(0,0,0,0)', linecolor='lightgrey')\n",
    "fig.update_yaxes(gridcolor='lightgrey', linecolor='lightgrey')\n",
    "\n",
    "# Affichage graphique\n",
    "fig.show()"
   ]
  },
  {
   "cell_type": "markdown",
   "id": "3ba5c3ec",
   "metadata": {},
   "source": [
    "##### <strong>Anova"
   ]
  },
  {
   "cell_type": "code",
   "execution_count": null,
   "id": "4b6a91dd",
   "metadata": {},
   "outputs": [],
   "source": [
    "# Calcul eta squared\n",
    "X = lapage_bdd_NO['categ'] # qualitative\n",
    "Y = lapage_bdd_NO['age'] # quantitative\n",
    "\n",
    "def eta_squared(x,y):\n",
    "    moyenne_y = y.mean()\n",
    "    classes = []\n",
    "    for classe in x.unique():\n",
    "        yi_classe = y[x==classe]\n",
    "        classes.append({'ni': len(yi_classe),\n",
    "                        'moyenne_classe': yi_classe.mean()})\n",
    "    SCT = sum([(yj-moyenne_y)**2 for yj in y])\n",
    "    SCE = sum([c['ni']*(c['moyenne_classe']-moyenne_y)**2 for c in classes])\n",
    "    return SCE/SCT\n",
    "    \n",
    "eta_squared(X,Y)"
   ]
  },
  {
   "cell_type": "markdown",
   "id": "47c42734",
   "metadata": {},
   "source": [
    "<div class=\"alert alert-block alert-warning\">\n",
    "<b>Remarques :</b><br><br>\n",
    " L'hypothèse nulle (H0) de ce test est la suivante : les deux variables <b>'age'</b> et <b>'categ'</b> sont indépendantes.<br><br>\n",
    "Le test Anova étant proche de 0, on peut donc confirmer H0 et conclure qu'il n'y a pas de corrélation entre <b>'age'</b> et <b>'categ'</b>.\n",
    "</div>"
   ]
  },
  {
   "cell_type": "markdown",
   "id": "d8e35e39",
   "metadata": {},
   "source": [
    "#### <STRONG>Fin du notebook"
   ]
  }
 ],
 "metadata": {
  "kernelspec": {
   "display_name": "Python 3 (ipykernel)",
   "language": "python",
   "name": "python3"
  },
  "language_info": {
   "codemirror_mode": {
    "name": "ipython",
    "version": 3
   },
   "file_extension": ".py",
   "mimetype": "text/x-python",
   "name": "python",
   "nbconvert_exporter": "python",
   "pygments_lexer": "ipython3",
   "version": "3.9.12"
  }
 },
 "nbformat": 4,
 "nbformat_minor": 5
}
